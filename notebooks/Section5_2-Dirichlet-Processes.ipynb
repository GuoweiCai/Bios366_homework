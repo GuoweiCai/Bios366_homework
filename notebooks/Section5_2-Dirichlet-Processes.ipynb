{
 "metadata": {
  "name": ""
 },
 "nbformat": 3,
 "nbformat_minor": 0,
 "worksheets": [
  {
   "cells": [
    {
     "cell_type": "markdown",
     "metadata": {},
     "source": [
      "# Non-parametric Bayes: Dirichlet Processes\n",
      "\n",
      "Semi-parametric methods have been preferred for a long time in survival analysis, for example, where the baseline hazard function is expressed non-parametrically to avoid assumptions regarding its form. Meanwhile, the use of non-parametric methods in Bayesian statistics is increasing. \n",
      "\n",
      "Use of the term \"non-parametric\" in the context of Bayesian analysis is something of a misnomer. This is because the first and fundamental step in Bayesian modeling is to specify a *full probability model* for the problem at hand. It is rather difficult to explicitly state a full probability model without the use of probability functions, which are parametric. Bayesian non-parametric methods do not imply that there are no parameters, but rather that the number of parameters grows with the size of the dataset. In fact, Bayesian non-parametric models are *infinitely* parametric.\n",
      "\n",
      "We have seen with parametric mixture models that we can assign group labels to observations using a model, but so far we have assumed that we know how many groups there are *a priori*. What if we don't know how many groups produced the data? We often want the choice of $K$ to be **data-driven**.\n",
      "\n",
      "There are a number of approaches for allocating samples to groups where the number of groups is not pre-determined. We will look at two generative methods here."
     ]
    },
    {
     "cell_type": "markdown",
     "metadata": {},
     "source": [
      "## Chinese Restaurant Process\n",
      "\n",
      "Consider a hypothetical Chinese restaurant with an *infinite* number of tables. \n",
      "\n",
      "![chinese restaurant](http://farm3.staticflickr.com/2153/2239018463_5f3e302c17_z.jpg)\n",
      "\n",
      "* The first customer entering the restaurant sits at the first empty table.\n",
      "\n",
      "* The next customer either joins the first customer with some probability $1/(1 + \\alpha), \\alpha>0$, or selects an empty table with probability $\\alpha/(1 + \\alpha)$.\n",
      "\n",
      "* Subsequent customers either join an occupied table with a probability proportional to the number of customers already at each table, or selects an empty table.\n"
     ]
    },
    {
     "cell_type": "code",
     "collapsed": false,
     "input": [
      "import pandas as pd\n",
      "import numpy as np\n",
      "from numpy.random import choice, random\n",
      "\n",
      "def crp(n, alpha):\n",
      "    \n",
      "    if n < 1:\n",
      "        return None\n",
      "    \n",
      "    table_assignments = np.empty(n)\n",
      "    next_table = 0\n",
      "    \n",
      "    for c in range(n):\n",
      "\n",
      "        if random() < (1. * alpha / (alpha + c)):\n",
      "            \n",
      "            # Sit at new table\n",
      "            table_assignments[c] = next_table\n",
      "            next_table += 1\n",
      "            \n",
      "        else:\n",
      "            \n",
      "            # Calculate selection probabilities as function of population\n",
      "            probs = [(table_assignments[:c]==i).sum()/float(c) \n",
      "                     for i in range(next_table)]\n",
      "            # Randomly assign to existing table\n",
      "            table_assignments[c] = choice(range(next_table), p=probs)\n",
      "        \n",
      "    return table_assignments"
     ],
     "language": "python",
     "metadata": {},
     "outputs": [],
     "prompt_number": 1
    },
    {
     "cell_type": "markdown",
     "metadata": {},
     "source": [
      "Let's try a few runs. First, with 10 customers:"
     ]
    },
    {
     "cell_type": "code",
     "collapsed": false,
     "input": [
      "def plot_crp(table_nums, ax=None):\n",
      "    x = range(int(table_nums.max()) + 1)\n",
      "    f = [(table_nums==i).sum() for i in set(table_nums)]\n",
      "    if ax is None: ax = plt\n",
      "    ax.bar(x, f)\n",
      "    \n",
      "fig, axes = plt.subplots(2, 5, sharex=True, sharey=True, figsize=(10,6))\n",
      "for ax in np.ravel(axes):\n",
      "    plot_crp(crp(10, 1), ax=ax)"
     ],
     "language": "python",
     "metadata": {},
     "outputs": [
      {
       "metadata": {},
       "output_type": "display_data",
       "png": "[encoded data removed]",
       "text": [
        "<matplotlib.figure.Figure at 0x10a457950>"
       ]
      }
     ],
     "prompt_number": 89
    },
    {
     "cell_type": "markdown",
     "metadata": {},
     "source": [
      "Then 100:"
     ]
    },
    {
     "cell_type": "code",
     "collapsed": false,
     "input": [
      "fig, axes = plt.subplots(2, 5, sharex=True, sharey=True, figsize=(10,6))\n",
      "for ax in np.ravel(axes):\n",
      "    plot_crp(crp(100, 1), ax=ax)"
     ],
     "language": "python",
     "metadata": {},
     "outputs": [
      {
       "metadata": {},
       "output_type": "display_data",
       "png": "[encoded data removed]",
       "text": [
        "<matplotlib.figure.Figure at 0x10a5dc590>"
       ]
      }
     ],
     "prompt_number": 91
    },
    {
     "cell_type": "markdown",
     "metadata": {},
     "source": [
      "And 500:"
     ]
    },
    {
     "cell_type": "code",
     "collapsed": false,
     "input": [
      "fig, axes = plt.subplots(2, 5, sharex=True, sharey=True, figsize=(10,6))\n",
      "for ax in np.ravel(axes):\n",
      "    plot_crp(crp(500, 1), ax=ax)"
     ],
     "language": "python",
     "metadata": {},
     "outputs": [
      {
       "metadata": {},
       "output_type": "display_data",
       "png": "[encoded data removed]",
       "text": [
        "<matplotlib.figure.Figure at 0x10a6247d0>"
       ]
      }
     ],
     "prompt_number": 92
    },
    {
     "cell_type": "markdown",
     "metadata": {},
     "source": [
      "Notice that the number of occupied tables increases with $n$ (and with $\\alpha$). Hence, in the context of a prior on the number of clusters, the process is non-parametric."
     ]
    },
    {
     "cell_type": "markdown",
     "metadata": {},
     "source": [
      "## Stick-breaking Process\n",
      "\n",
      "Another generative approach for allocating observations to groups is the stick-breaking process, which involves breaking the support of a particular variable into $k$ disjoint segments. Here, we start with a \"stick\" of unit length. To \"break\" the stick, we generate random points along the stick via the following algorithm:\n",
      "\n",
      "* generate a random variable $\\beta_1 \\sim Beta(1, \\alpha_0)$\n",
      "* use this random variable (which is on the unit interval) to define a break point on the stick\n",
      "* iterate $k-1$ times:\n",
      "    - generate $\\beta_i \\sim Beta(1, \\alpha_0)$\n",
      "    - identify next break point at $\\pi_i = \\beta_i \\prod_{j=1}^{i-1} (1-\\beta_j)$ (which is on the part of the stick that remains after the previous break)"
     ]
    },
    {
     "cell_type": "markdown",
     "metadata": {},
     "source": [
      "This results in $k$ groups being created. Associated with each piece is a probability that is proportional to its length; these $k$ probabilities will have a Dirichlet distribution -- hence, the name of the process. Notice that $k$ can be infinite, making $G$ an infinite mixture."
     ]
    },
    {
     "cell_type": "code",
     "collapsed": false,
     "input": [
      "from numpy.random import beta\n",
      "\n",
      "def sbp(n, alpha):\n",
      "    betas = beta(1, alpha, n)\n",
      "    return [betas[i]*(1 - betas[:i]).prod() for i in range(n)]"
     ],
     "language": "python",
     "metadata": {},
     "outputs": [],
     "prompt_number": 32
    },
    {
     "cell_type": "code",
     "collapsed": false,
     "input": [
      "n = 20\n",
      "fig, axes = plt.subplots(2, 5, sharex=True, sharey=True, figsize=(10,6))\n",
      "for ax in np.ravel(axes):\n",
      "    ax.bar(range(n), sbp(n, 1))"
     ],
     "language": "python",
     "metadata": {},
     "outputs": [
      {
       "metadata": {},
       "output_type": "display_data",
       "png": "[encoded data removed]",
       "text": [
        "<matplotlib.figure.Figure at 0x1096a8250>"
       ]
      }
     ],
     "prompt_number": 102
    },
    {
     "cell_type": "code",
     "collapsed": false,
     "input": [
      "fig, axes = plt.subplots(2, 5, sharex=True, sharey=True, figsize=(10,6))\n",
      "for ax in np.ravel(axes):\n",
      "    ax.bar(range(n), sbp(n, 5))"
     ],
     "language": "python",
     "metadata": {},
     "outputs": [
      {
       "metadata": {},
       "output_type": "display_data",
       "png": "[encoded data removed]",
       "text": [
        "<matplotlib.figure.Figure at 0x10a9df510>"
       ]
      }
     ],
     "prompt_number": 104
    },
    {
     "cell_type": "code",
     "collapsed": false,
     "input": [
      "fig, axes = plt.subplots(2, 5, sharex=True, sharey=True, figsize=(10,6))\n",
      "for ax in np.ravel(axes):\n",
      "    ax.bar(range(n), sbp(n, 20))"
     ],
     "language": "python",
     "metadata": {},
     "outputs": [
      {
       "metadata": {},
       "output_type": "display_data",
       "png": "[encoded data removed]",
       "text": [
        "<matplotlib.figure.Figure at 0x10a7f3150>"
       ]
      }
     ],
     "prompt_number": 105
    },
    {
     "cell_type": "markdown",
     "metadata": {},
     "source": [
      "We can see that as $\\alpha_0$ increases, the weights (stick sizes) are more even across the samples."
     ]
    },
    {
     "cell_type": "markdown",
     "metadata": {},
     "source": [
      "## Dirichlet Process\n",
      "\n",
      "A useful non-parametric approach for modeling random effects is the Dirichlet process (DP). The DP can be conveniently thought of as a probability distribution over measures. Thus, an observation under a DP is described by a probability distribution that itself is a random draw from some other distribution. \n",
      "\n",
      "Formally:\n",
      "\n",
      "> A Dirichlet process (DP) is a distribution of a random probability measure $G$ such that any finite partition $\\{A_i\\}_{i=1}^K$, the random vector $\\{G(A_i)\\}_{i=1}^K$ is distributed as a finite Dirichlet distribution:\n",
      "\n",
      "> $$G(A_1), \\ldots, G(A_K) \\sim \\text{Dir}(\\alpha_0 G_0(A_1), \\ldots, \\alpha_0 G_0(A_K))$$\n",
      "\n",
      "> where $G_0$ is the baseline measure of $G$ and $\\alpha_0$ the concentration parameter. The Dirichlet process is denoted:\n",
      "\n",
      "> $$G \\sim DP(\\alpha_0 G_0)$$\n",
      "\n",
      "The baseline distribution $G_0$ defines the center of the DP, and can be regarded as an *a priori* \"best guess\" at the functional form of the random variable. Accordingly, $\\alpha$ is a measure of our confidence in our guess. So, as $\\alpha$ grows large, the DP resembles the functional form given by $G_0$."
     ]
    },
    {
     "cell_type": "markdown",
     "metadata": {},
     "source": [
      "If we examine the sample draws from either the Chinese restaurant process or the stick-breaking process above, it is apparent that each sample represents a realization from the same underlying process (when the parameter values are the same). We can use either of these generative processes (or others we have not discussed here) to generate weights for the DP.\n",
      "\n",
      "Alternately, we could use a CRP to generate groups (tables), where each element from the same group would be assigned the same value sampled from $G_0$. Extending the metaphor of the chinese restaurant, each table shares the same food."
     ]
    },
    {
     "cell_type": "markdown",
     "metadata": {},
     "source": [
      "For example, let's construct a DP with a baseline distribution that is standard normal:\n",
      "\n",
      "$$G_0 = N(0,1)$$\n",
      "\n",
      "We take a draw of $n$ values from the baseline distribution:\n",
      "\n",
      "$$ \\theta_1, \\theta_2, \\ldots \\theta_n \\sim G_0 $$"
     ]
    },
    {
     "cell_type": "code",
     "collapsed": false,
     "input": [
      "n = 25\n",
      "alpha = 7\n",
      "theta = np.random.normal(0, 1, 25)"
     ],
     "language": "python",
     "metadata": {},
     "outputs": [],
     "prompt_number": 130
    },
    {
     "cell_type": "markdown",
     "metadata": {},
     "source": [
      "then, using a stick breaking process, we can obtain a set of draws $\\beta_1, \\beta_2, \\ldots$ from a $\\text{Beta}(1,\\alpha)$. These are used to assign probabilities to the $\\theta_i$ values. As we established above, the probability of each $\\theta_i$ is calculated via:\n",
      "\n",
      "$$ \\pi_i = \\beta_i \\prod_{j=1}^{i-1} (1 - \\beta_j) $$"
     ]
    },
    {
     "cell_type": "code",
     "collapsed": false,
     "input": [
      "p = sbp(n, alpha)"
     ],
     "language": "python",
     "metadata": {},
     "outputs": [],
     "prompt_number": 131
    },
    {
     "cell_type": "markdown",
     "metadata": {},
     "source": [
      "These probabilities correspond to the set of draws from the baseline distribution, where each of the latter are point masses of probability. So, the DP density function is:\n",
      "\n",
      "$$ G(x) = \\sum_{i=1}^{n} \\pi_i I(x=\\beta_i) $$\n",
      "\n",
      "where $I$ is the indicator function."
     ]
    },
    {
     "cell_type": "code",
     "collapsed": false,
     "input": [
      "x = np.random.multinomial(n, p)\n",
      "dp = theta[x]\n",
      "dp"
     ],
     "language": "python",
     "metadata": {},
     "outputs": [
      {
       "metadata": {},
       "output_type": "pyout",
       "prompt_number": 132,
       "text": [
        "array([-0.15693468,  0.0234997 ,  0.4976043 , -0.15693468, -0.15693468,\n",
        "       -0.15693468,  0.17779938,  0.4976043 ,  0.17779938,  0.17779938,\n",
        "        0.4976043 , -0.15693468,  0.4976043 ,  0.4976043 ,  0.4976043 ,\n",
        "        0.4976043 ,  0.4976043 ,  0.4976043 ,  0.4976043 ,  0.4976043 ,\n",
        "        0.4976043 ,  0.4976043 , -0.15693468,  0.4976043 , -0.93928357])"
       ]
      }
     ],
     "prompt_number": 132
    },
    {
     "cell_type": "code",
     "collapsed": false,
     "input": [
      "x = set(dp)\n",
      "f = [(dp==i).sum() for i in x]\n",
      "plt.bar(x, f, width=0.01)"
     ],
     "language": "python",
     "metadata": {},
     "outputs": [
      {
       "metadata": {},
       "output_type": "pyout",
       "prompt_number": 133,
       "text": [
        "<Container object of 5 artists>"
       ]
      },
      {
       "metadata": {},
       "output_type": "display_data",
       "png": "[encoded data removed]",
       "text": [
        "<matplotlib.figure.Figure at 0x10a6105d0>"
       ]
      }
     ],
     "prompt_number": 133
    },
    {
     "cell_type": "markdown",
     "metadata": {},
     "source": [
      "So, you can see that the Dirichlet process is discrete, despite the fact that its values may be non-integer. This can be generalized to a mixture of continuous distributions, which is called a DP mixture."
     ]
    },
    {
     "cell_type": "markdown",
     "metadata": {},
     "source": [
      "## Example: Estimating household radon levels\n",
      "\n",
      "As an example of implementing Dirichlet processes for random effects, I'm going to use the radon measurement and remediation example from [Gelman and Hill (2006)](http://amzn.to/gFfJbs). This problem uses measurements of [radon](http://en.wikipedia.org/wiki/Radon) (a carcinogenic, radioactive gas) from households in 85 counties in Minnesota to estimate the distribution of the substance across the state. This dataset has a natural hierarchical structure, with individual measurements nested within households, and households in turn nested within counties. Here, we are certainly interested in modeling the variation in counties, but do not have covariates measured at that level. Since we are more interested in the variation among counties, rather than the particular levels for each, a random effects model is appropriate. Whit Armstrong was kind enough to [code several parametrizations of this model in PyMC](https://github.com/armstrtw/pymc_radon), so I will use his code as a basis for implementing a non-parametric random effect for radon levels among counties.\n",
      "\n",
      "In the original example from Gelman and Hill, measurements are modeled as being normally distributed, with a mean that is a hierarchical function of both a county-level random effect and a fixed effect that accounted for whether houses had a basement (this is thought to increase radon levels).\n",
      "\n",
      "$$ y_i \\sim N(\\alpha_{j[i]} + \\beta x_i, \\sigma_y^2) $$\n",
      "\t\n",
      "So, in essence, each county has its own slope, but shares a slope among all counties. This can easily be generalized to both random slopes and intercepts, but I'm going to keep things simple, in order to focus in implementing a single random effect.\n",
      "\n",
      "The constraint that is applied to the intercepts in Gelman and Hill's original model is that they have a common distribution (Gaussian) that describes how they vary from the state-wide mean.\n",
      "\n",
      "$$ \\alpha_j \\sim N(\\mu_{\\alpha}, \\sigma_{\\alpha}^2) $$\n",
      "\t\n",
      "This comprises a so-called \"partial pooling\" model, whereby counties are neither constrained to have identical means (full pooling) nor are assumed to have completely independent means (no pooling); in most applications, the truth is somewhere between these two extremes. Though this is a very flexible approach to accounting for county-level variance, one might be worried about imposing such a restrictive (thin-tailed) distribution like the normal on this variance. If there are counties that have extremely low or high levels (for whatever reason), this model will fit poorly. To allay such worries, we can hedge our bets by selecting a more forgiving functional form, such as [Student's t](http://en.wikipedia.org/wiki/Student's_t-distribution) or [Cauchy](http://en.wikipedia.org/wiki/Cauchy_distribution), but these still impose parametric restrictions (*e.g.* symmetry about the mean) that we may be uncomfortable making. So, in the interest of even greater flexibility, we will replace the normal county random effect with a non-parametric alternative, using a Dirichlet process.\n",
      "\n",
      "One of the difficulties in implementing DP computationally is how to handle an infinite mixture. The easiest way to tackle this is by using a truncated Dirichlet process to approximate the full process. This can be done by choosing a size $k$ that is sufficiently large that it will exceed the number of point masses required. By doing this, we are assuming\n",
      "\n",
      "$$ \\sum_{i=1}^{\\infty} p_i I(x=\\theta_i) \\approx \\sum_{i=1}^{N} p_i I(x=\\theta_i) $$\n",
      "\n",
      "[Ohlssen et al. 2007](http://onlinelibrary.wiley.com/doi/10.1002/sim.2666/abstract) provide a rule of thumb for choosing $N$ such that the sum of the first $N-1$ point masses is greater than 0.99:\n",
      "\n",
      "$$ N \\approx 5\\alpha + 2 $$\n",
      "\n",
      "To be conservative, we will choose an even larger value (100), which we will call `N_dp`. The truncation makes implementation of DP in PyMC (or JAGS/BUGS) relatively simple."
     ]
    },
    {
     "cell_type": "code",
     "collapsed": false,
     "input": [
      "N_dp = 100"
     ],
     "language": "python",
     "metadata": {},
     "outputs": [],
     "prompt_number": 5
    },
    {
     "cell_type": "markdown",
     "metadata": {},
     "source": [
      "We first must specify the baseline distribution and the concentration parameter. As we have no prior information to inform a choice for $\\alpha$, we will specify a uniform prior for it, with reasonable bounds:"
     ]
    },
    {
     "cell_type": "code",
     "collapsed": false,
     "input": [
      "from pymc import *\n",
      "\n",
      "alpha = Uniform('alpha', lower=0.5, upper=10)"
     ],
     "language": "python",
     "metadata": {},
     "outputs": [],
     "prompt_number": 3
    },
    {
     "cell_type": "markdown",
     "metadata": {},
     "source": [
      "Though the upper bound may seem small for a prior that purports to be uninformative, recall that for large values of $\\alpha$, the DP will converge to the baseline distribution, suggesting that a continuous distribution would be more appropriate.\n",
      "\n",
      "Since we are extending a normal random effects model, I will choose a normal baseline distribution, with vague hyperpriors:"
     ]
    },
    {
     "cell_type": "code",
     "collapsed": false,
     "input": [
      "mu_0 = Normal('mu_0', mu=0, tau=0.01, value=0)\n",
      "sig_0 = Uniform('sig_0', lower=0, upper=100, value=1)\n",
      "tau_0 = sig_0 ** -2\n",
      "\n",
      "theta = Normal('theta', mu=mu_0, tau=tau_0, size=N_dp)"
     ],
     "language": "python",
     "metadata": {},
     "outputs": [],
     "prompt_number": 6
    },
    {
     "cell_type": "markdown",
     "metadata": {},
     "source": [
      "Notice that I have specified a uniform prior on the standard deviation, rather than the more common [gamma](http://en.wikipedia.org/wiki/Gamma_distribution)-distributed precision; for hierarchical models this is [good practice](http://ba.stat.cmu.edu/journal/2006/vol01/issue03/gelman.pdf). So, now we that we have `N_dp` point masses, all that remains is to generate corresponding probabilities. Following the recipe above:"
     ]
    },
    {
     "cell_type": "code",
     "collapsed": false,
     "input": [
      "v = Beta('v', alpha=1, beta=alpha, size=N_dp)\n",
      "\n",
      "@deterministic\n",
      "def p(v=v):\n",
      "    \"\"\" Calculate Dirichlet probabilities \"\"\"\n",
      "\n",
      "    # Probabilities from betas\n",
      "    value = [u*np.prod(1-v[:i]) for i,u in enumerate(v)]\n",
      "    # Enforce sum to unity constraint\n",
      "    value[-1] = 1-sum(value[:-1])\n",
      "\n",
      "    return value"
     ],
     "language": "python",
     "metadata": {},
     "outputs": [],
     "prompt_number": 7
    },
    {
     "cell_type": "markdown",
     "metadata": {},
     "source": [
      "This is where you really appreciate Python's [list comprehension](http://docs.python.org/tutorial/datastructures.html#list-comprehensions) idiom. In fact, were it not for the fact that we wanted to ensure that the array of probabilities sums to one, `p` could have been specified in a single line.\n",
      "\n",
      "The final step involves using the Dirichlet probabilities to generate indices to the appropriate point masses. This is realized using a categorical mass function:"
     ]
    },
    {
     "cell_type": "code",
     "collapsed": false,
     "input": [
      "z = pymc.Categorical('z', p, size=len(set(counties)))"
     ],
     "language": "python",
     "metadata": {},
     "outputs": [
      {
       "ename": "NameError",
       "evalue": "name 'counties' is not defined",
       "output_type": "pyerr",
       "traceback": [
        "\u001b[0;31m---------------------------------------------------------------------------\u001b[0m\n\u001b[0;31mNameError\u001b[0m                                 Traceback (most recent call last)",
        "\u001b[0;32m<ipython-input-8-f0950d4d4cc3>\u001b[0m in \u001b[0;36m<module>\u001b[0;34m()\u001b[0m\n\u001b[0;32m----> 1\u001b[0;31m \u001b[0mz\u001b[0m \u001b[0;34m=\u001b[0m \u001b[0mpymc\u001b[0m\u001b[0;34m.\u001b[0m\u001b[0mCategorical\u001b[0m\u001b[0;34m(\u001b[0m\u001b[0;34m'z'\u001b[0m\u001b[0;34m,\u001b[0m \u001b[0mp\u001b[0m\u001b[0;34m,\u001b[0m \u001b[0msize\u001b[0m\u001b[0;34m=\u001b[0m\u001b[0mlen\u001b[0m\u001b[0;34m(\u001b[0m\u001b[0mset\u001b[0m\u001b[0;34m(\u001b[0m\u001b[0mcounties\u001b[0m\u001b[0;34m)\u001b[0m\u001b[0;34m)\u001b[0m\u001b[0;34m)\u001b[0m\u001b[0;34m\u001b[0m\u001b[0m\n\u001b[0m",
        "\u001b[0;31mNameError\u001b[0m: name 'counties' is not defined"
       ]
      }
     ],
     "prompt_number": 8
    },
    {
     "cell_type": "markdown",
     "metadata": {},
     "source": [
      "These indices, in turn, are used to index the random effects, which are used as random intercepts for the model:\n",
      "\n",
      "\t\n",
      "\ta = pymc.Lambda('a', lambda z=z, theta=theta: theta[z])\n",
      "\t\n",
      "Substitution of the above code into Gelman and Hill's original model produces reasonable results. The expected value of $\\\\alpha$ is approximately 5, as shown by the posterior output below:\n",
      "\n",
      "![](http://dl.dropbox.com/u/233041/images/alpha.png)\n",
      "\n",
      "Here is a random sample taken from the DP:\n",
      "\n",
      "![](http://dl.dropbox.com/u/233041/images/dphist.png)\n",
      "\n",
      "But is the model better? One metric for model comparison is the [deviance information criterion](http://en.wikipedia.org/wiki/Deviance_information_criterion) (DIC), which appears to strongly favor the DP random effect (smaller values are better):\n",
      "\n",
      "\tIn [11]: M.dic\n",
      "\tOut[11]: 2138.7806225675804\n",
      "\n",
      "\tIn [12]: M_dp.dic\n",
      "\tOut[12]: 1993.0894265799602\n",
      "\t\n",
      "If you are interested in viewing the model code in its entirety, I have uploaded it to [my fork of Whit's code](https://github.com/fonnesbeck/pymc_radon/blob/master/radon_dp.py)."
     ]
    },
    {
     "cell_type": "code",
     "collapsed": false,
     "input": [
      "from IPython.core.display import HTML\n",
      "def css_styling():\n",
      "    styles = open(\"styles/custom.css\", \"r\").read()\n",
      "    return HTML(styles)\n",
      "css_styling()"
     ],
     "language": "python",
     "metadata": {},
     "outputs": [
      {
       "html": [
        "<style>\n",
        "    @font-face {\n",
        "        font-family: \"Computer Modern\";\n",
        "        src: url('http://mirrors.ctan.org/fonts/cm-unicode/fonts/otf/cmunss.otf');\n",
        "    }\n",
        "    div.cell{\n",
        "        width:800px;\n",
        "/*        margin-left:16% !important;*/\n",
        "        margin-left:auto;\n",
        "        margin-right:auto;\n",
        "    }\n",
        "    h1 {\n",
        "        font-family: Helvetica, serif;\n",
        "    }\n",
        "    h4{\n",
        "        margin-top:12px;\n",
        "        margin-bottom: 3px;\n",
        "       }\n",
        "    div.text_cell_render{\n",
        "        font-family: Computer Modern, \"Helvetica Neue\", Arial, Helvetica, Geneva, sans-serif;\n",
        "        line-height: 145%;\n",
        "        font-size: 130%;\n",
        "        width:800px;\n",
        "        margin-left:auto;\n",
        "        margin-right:auto;\n",
        "    }\n",
        "    .CodeMirror{\n",
        "            font-family: \"Source Code Pro\", source-code-pro,Consolas, monospace;\n",
        "    }\n",
        "/*    .prompt{\n",
        "        display: None;\n",
        "    }*/\n",
        "    .text_cell_render h5 {\n",
        "        font-weight: 300;\n",
        "        font-size: 16pt;\n",
        "        color: #4057A1;\n",
        "        font-style: italic;\n",
        "        margin-bottom: .5em;\n",
        "        margin-top: 0.5em;\n",
        "        display: block;\n",
        "    }\n",
        "\n",
        "    .warning{\n",
        "        color: rgb( 240, 20, 20 )\n",
        "        }\n",
        "</style>\n",
        "<script>\n",
        "    MathJax.Hub.Config({\n",
        "                        TeX: {\n",
        "                           extensions: [\"AMSmath.js\"]\n",
        "                           },\n",
        "                tex2jax: {\n",
        "                    inlineMath: [ ['$','$'], [\"\\\\(\",\"\\\\)\"] ],\n",
        "                    displayMath: [ ['$$','$$'], [\"\\\\[\",\"\\\\]\"] ]\n",
        "                },\n",
        "                displayAlign: 'center', // Change this to 'center' to center equations.\n",
        "                \"HTML-CSS\": {\n",
        "                    styles: {'.MathJax_Display': {\"margin\": 4}}\n",
        "                }\n",
        "        });\n",
        "</script>"
       ],
       "metadata": {},
       "output_type": "pyout",
       "prompt_number": 17,
       "text": [
        "<IPython.core.display.HTML at 0x10f425b10>"
       ]
      }
     ],
     "prompt_number": 17
    }
   ],
   "metadata": {}
  }
 ]
}