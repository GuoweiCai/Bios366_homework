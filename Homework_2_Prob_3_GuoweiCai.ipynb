{
 "metadata": {
  "name": ""
 },
 "nbformat": 3,
 "nbformat_minor": 0,
 "worksheets": [
  {
   "cells": [
    {
     "cell_type": "markdown",
     "metadata": {},
     "source": [
      "## Question 3\n",
      "\n",
      "The `titanic.xls` spreadsheet in the `data` directory contains data regarding the passengers on the Titanic when it sank in 1912. A recent [Kaggle competition](http://www.kaggle.com/c/titanic-gettingStarted) was based on predicting survival for passengers based on the attributes in the passenger list. \n",
      "\n",
      "Use scikit-learn to build both a support vector classifier and a logistic regression model to predict survival on the Titanic. Use cross-validation to assess your models, and try to tune them to improve performance.\n",
      "\n",
      "Discuss the benefits and drawbacks of both approaches for application to such problems."
     ]
    },
    {
     "cell_type": "markdown",
     "metadata": {},
     "source": [
      "##1. Praperation##"
     ]
    },
    {
     "cell_type": "code",
     "collapsed": false,
     "input": [
      "\"\"\"\n",
      "Import packages\n",
      "\"\"\"\n",
      "from sklearn import linear_model\n",
      "import pymc as pm\n",
      "import numpy as np\n",
      "import pandas as pd\n",
      "import time"
     ],
     "language": "python",
     "metadata": {},
     "outputs": [],
     "prompt_number": 1
    },
    {
     "cell_type": "code",
     "collapsed": false,
     "input": [
      "\"\"\"\n",
      "Import data\n",
      "\"\"\"\n",
      "titanic = pd.read_excel(\"../data/titanic.xls\", \"titanic\")\n",
      "titanic"
     ],
     "language": "python",
     "metadata": {},
     "outputs": [
      {
       "output_type": "stream",
       "stream": "stderr",
       "text": [
        "/home/guowei/anaconda/lib/python2.7/site-packages/pandas/core/config.py:570: DeprecationWarning: height has been deprecated.\n",
        "\n",
        "  warnings.warn(d.msg, DeprecationWarning)\n"
       ]
      },
      {
       "html": [
        "<pre>\n",
        "&lt;class 'pandas.core.frame.DataFrame'&gt;\n",
        "Int64Index: 1309 entries, 0 to 1308\n",
        "Data columns (total 14 columns):\n",
        "pclass       1309  non-null values\n",
        "survived     1309  non-null values\n",
        "name         1309  non-null values\n",
        "sex          1309  non-null values\n",
        "age          1046  non-null values\n",
        "sibsp        1309  non-null values\n",
        "parch        1309  non-null values\n",
        "ticket       1309  non-null values\n",
        "fare         1308  non-null values\n",
        "cabin        295  non-null values\n",
        "embarked     1307  non-null values\n",
        "boat         486  non-null values\n",
        "body         121  non-null values\n",
        "home.dest    745  non-null values\n",
        "dtypes: float64(7), object(7)\n",
        "</pre>"
       ],
       "metadata": {},
       "output_type": "pyout",
       "prompt_number": 2,
       "text": [
        "<class 'pandas.core.frame.DataFrame'>\n",
        "Int64Index: 1309 entries, 0 to 1308\n",
        "Data columns (total 14 columns):\n",
        "pclass       1309  non-null values\n",
        "survived     1309  non-null values\n",
        "name         1309  non-null values\n",
        "sex          1309  non-null values\n",
        "age          1046  non-null values\n",
        "sibsp        1309  non-null values\n",
        "parch        1309  non-null values\n",
        "ticket       1309  non-null values\n",
        "fare         1308  non-null values\n",
        "cabin        295  non-null values\n",
        "embarked     1307  non-null values\n",
        "boat         486  non-null values\n",
        "body         121  non-null values\n",
        "home.dest    745  non-null values\n",
        "dtypes: float64(7), object(7)"
       ]
      }
     ],
     "prompt_number": 2
    },
    {
     "cell_type": "markdown",
     "metadata": {},
     "source": [
      "##2. Data manipulation##"
     ]
    },
    {
     "cell_type": "code",
     "collapsed": false,
     "input": [
      "\"\"\"\n",
      "Remove variables with too few data\n",
      "\"\"\"\n",
      "titanic.pop('home.dest')\n",
      "titanic.pop('body')\n",
      "titanic.pop('boat')\n",
      "titanic.pop('cabin')\n",
      "titanic.pop('name')\n",
      "titanic.pop('ticket')"
     ],
     "language": "python",
     "metadata": {},
     "outputs": [
      {
       "metadata": {},
       "output_type": "pyout",
       "prompt_number": 3,
       "text": [
        "0        24160\n",
        "1       113781\n",
        "2       113781\n",
        "3       113781\n",
        "4       113781\n",
        "5        19952\n",
        "6        13502\n",
        "7       112050\n",
        "8        11769\n",
        "9     PC 17609\n",
        "10    PC 17757\n",
        "11    PC 17757\n",
        "12    PC 17477\n",
        "13       19877\n",
        "14       27042\n",
        "...\n",
        "1294               54636\n",
        "1295    SOTON/OQ 3101317\n",
        "1296              315154\n",
        "1297          A/4. 34244\n",
        "1298              345771\n",
        "1299                2659\n",
        "1300                2659\n",
        "1301                2628\n",
        "1302                2647\n",
        "1303                2627\n",
        "1304                2665\n",
        "1305                2665\n",
        "1306                2656\n",
        "1307                2670\n",
        "1308              315082\n",
        "Name: ticket, Length: 1309, dtype: object"
       ]
      }
     ],
     "prompt_number": 3
    },
    {
     "cell_type": "code",
     "collapsed": false,
     "input": [
      "\"\"\"\n",
      "Replacement with numeric value\n",
      "\"\"\"\n",
      "titanic.embarked=titanic.embarked.replace({'S':0,'C':1,'Q':2})\n",
      "titanic.sex=titanic.sex.replace({'male':0,'female':1})"
     ],
     "language": "python",
     "metadata": {},
     "outputs": [],
     "prompt_number": 4
    },
    {
     "cell_type": "code",
     "collapsed": false,
     "input": [
      "\"\"\"\n",
      "Throw the datasets that has null values in any variables\n",
      "\"\"\"\n",
      "bool_mat = np.array([True]*len(titanic))\n",
      "for i in range(len(titanic)):\n",
      "    if isinstance(titanic.embarked[i],float) or isnan(titanic.age[i]) or isnan(titanic.fare[i]):\n",
      "        bool_mat[i] = False\n",
      "        \n",
      "titanic_copy = titanic[bool_mat]"
     ],
     "language": "python",
     "metadata": {},
     "outputs": [],
     "prompt_number": 5
    },
    {
     "cell_type": "markdown",
     "metadata": {},
     "source": [
      "##3. Data split##"
     ]
    },
    {
     "cell_type": "code",
     "collapsed": false,
     "input": [
      "y = titanic_copy.pop('survived').values\n",
      "x = titanic_copy.values\n",
      "\n",
      "from sklearn import cross_validation, svm\n",
      "\n",
      "x_train, x_test, y_train, y_test = cross_validation.train_test_split(\n",
      "        x, y, test_size=0.4, random_state=0)"
     ],
     "language": "python",
     "metadata": {},
     "outputs": [],
     "prompt_number": 6
    },
    {
     "cell_type": "markdown",
     "metadata": {},
     "source": [
      "##4. Model building##"
     ]
    },
    {
     "cell_type": "code",
     "collapsed": false,
     "input": [
      "\"\"\"\n",
      "SVM_Linear_1\n",
      "\"\"\"\n",
      "c = 1e-4\n",
      "\n",
      "starttime = time.time()\n",
      "\n",
      "svc_linear = svm.SVC(kernel='linear', C=c)\n",
      "scores = cross_validation.cross_val_score(svc_linear, x_train, y_train, cv=5)\n",
      "\n",
      "endtime = time.time()\n",
      "print 'C is :{0}'.format(c)\n",
      "print 'Time elaspes: {0} s'.format(round(float(endtime - starttime)),2)\n",
      "print scores\n",
      "print ''"
     ],
     "language": "python",
     "metadata": {},
     "outputs": [
      {
       "output_type": "stream",
       "stream": "stdout",
       "text": [
        "C is :0.0001\n",
        "Time elaspes: 0.0 s\n",
        "[ 0.656  0.632  0.688  0.64   0.656]\n",
        "\n"
       ]
      }
     ],
     "prompt_number": 8
    },
    {
     "cell_type": "code",
     "collapsed": false,
     "input": [
      "\"\"\"\n",
      "SVM_Linear_2\n",
      "\"\"\"\n",
      "c = 1\n",
      "\n",
      "starttime = time.time()\n",
      "\n",
      "svc_linear = svm.SVC(kernel='linear', C=c)\n",
      "scores = cross_validation.cross_val_score(svc_linear, x_train, y_train, cv=5)\n",
      "    \n",
      "endtime = time.time()\n",
      "print 'C is :{0}'.format(c)\n",
      "print 'Time elaspes: {0} s'.format(round(float(endtime - starttime)),2)\n",
      "print scores\n",
      "print ''"
     ],
     "language": "python",
     "metadata": {},
     "outputs": [
      {
       "output_type": "stream",
       "stream": "stdout",
       "text": [
        "C is :1\n",
        "Time elaspes: 79.0 s\n",
        "[ 0.744  0.768  0.744  0.784  0.816]\n",
        "\n"
       ]
      }
     ],
     "prompt_number": 12
    },
    {
     "cell_type": "code",
     "collapsed": false,
     "input": [
      "\"\"\"\n",
      "SVM_Linear_3\n",
      "\"\"\"\n",
      "c = 1e4\n",
      "\n",
      "starttime = time.time()\n",
      "\n",
      "svc_linear = svm.SVC(kernel='linear', C=c)\n",
      "scores = cross_validation.cross_val_score(svc_linear, x_train, y_train, cv=5)\n",
      "\n",
      "endtime = time.time()\n",
      "print 'C is :{0}'.format(c)\n",
      "print 'Time elaspes: {0} s'.format(round(float(endtime - starttime)),2)\n",
      "print scores\n",
      "print ''"
     ],
     "language": "python",
     "metadata": {},
     "outputs": [],
     "prompt_number": "*"
    },
    {
     "cell_type": "code",
     "collapsed": false,
     "input": [
      "\"\"\"\n",
      "logistic regression model_1\n",
      "\"\"\"\n",
      "\n",
      "c = 1e-4\n",
      "\n",
      "starttime = time.time()\n",
      "\n",
      "f = linear_model.LogisticRegression(tol=0.001, C=c)\n",
      "f.fit(x_train, y_train)\n",
      "y_pred = f.predict(x_test)\n",
      "\n",
      "endtime = time.time()\n",
      "\n",
      "score = f.score(x_test,y_test)\n",
      "\n",
      "print 'C is :{0}'.format(c)\n",
      "print 'Time elasped: {0} s'.format(round(float(endtime - starttime)),2)\n",
      "print score\n",
      "pd.crosstab(y_test, y_pred, rownames=['actual'], \n",
      "            colnames=['prediction'])\n"
     ],
     "language": "python",
     "metadata": {},
     "outputs": [
      {
       "output_type": "stream",
       "stream": "stdout",
       "text": [
        "C is :0.0001\n",
        "Time elasped: 0.0 s\n",
        "0.626794258373\n"
       ]
      },
      {
       "output_type": "stream",
       "stream": "stderr",
       "text": [
        "/home/guowei/anaconda/lib/python2.7/site-packages/pandas/core/config.py:570: DeprecationWarning: height has been deprecated.\n",
        "\n",
        "  warnings.warn(d.msg, DeprecationWarning)\n",
        "/home/guowei/anaconda/lib/python2.7/site-packages/pandas/core/config.py:570: DeprecationWarning: height has been deprecated.\n",
        "\n",
        "  warnings.warn(d.msg, DeprecationWarning)\n"
       ]
      },
      {
       "html": [
        "<div style=\"max-height:1000px;max-width:1500px;overflow:auto;\">\n",
        "<table border=\"1\" class=\"dataframe\">\n",
        "  <thead>\n",
        "    <tr style=\"text-align: right;\">\n",
        "      <th>prediction</th>\n",
        "      <th>0.0</th>\n",
        "      <th>1.0</th>\n",
        "    </tr>\n",
        "    <tr>\n",
        "      <th>actual</th>\n",
        "      <th></th>\n",
        "      <th></th>\n",
        "    </tr>\n",
        "  </thead>\n",
        "  <tbody>\n",
        "    <tr>\n",
        "      <th>0</th>\n",
        "      <td> 204</td>\n",
        "      <td> 37</td>\n",
        "    </tr>\n",
        "    <tr>\n",
        "      <th>1</th>\n",
        "      <td> 119</td>\n",
        "      <td> 58</td>\n",
        "    </tr>\n",
        "  </tbody>\n",
        "</table>\n",
        "</div>"
       ],
       "metadata": {},
       "output_type": "pyout",
       "prompt_number": 9,
       "text": [
        "prediction    0   1\n",
        "actual             \n",
        "0           204  37\n",
        "1           119  58"
       ]
      }
     ],
     "prompt_number": 9
    },
    {
     "cell_type": "code",
     "collapsed": false,
     "input": [
      "\"\"\"\n",
      "logistic regression model_2\n",
      "\"\"\"\n",
      "\n",
      "c = 1\n",
      "\n",
      "starttime = time.time()\n",
      "\n",
      "f = linear_model.LogisticRegression(tol=0.001, C=c)\n",
      "f.fit(x_train, y_train)\n",
      "y_pred = f.predict(x_test)\n",
      "\n",
      "endtime = time.time()\n",
      "\n",
      "score = f.score(x_test,y_test)\n",
      "\n",
      "print 'C is :{0}'.format(c)\n",
      "print 'Time elasped: {0} s'.format(round(float(endtime - starttime)),2)\n",
      "print score\n",
      "pd.crosstab(y_test, y_pred, rownames=['actual'], \n",
      "            colnames=['prediction'])\n"
     ],
     "language": "python",
     "metadata": {},
     "outputs": [
      {
       "output_type": "stream",
       "stream": "stdout",
       "text": [
        "C is :1\n",
        "Time elasped: 0.0 s\n",
        "0.808612440191\n"
       ]
      },
      {
       "output_type": "stream",
       "stream": "stderr",
       "text": [
        "/home/guowei/anaconda/lib/python2.7/site-packages/pandas/core/config.py:570: DeprecationWarning: height has been deprecated.\n",
        "\n",
        "  warnings.warn(d.msg, DeprecationWarning)\n",
        "/home/guowei/anaconda/lib/python2.7/site-packages/pandas/core/config.py:570: DeprecationWarning: height has been deprecated.\n",
        "\n",
        "  warnings.warn(d.msg, DeprecationWarning)\n"
       ]
      },
      {
       "html": [
        "<div style=\"max-height:1000px;max-width:1500px;overflow:auto;\">\n",
        "<table border=\"1\" class=\"dataframe\">\n",
        "  <thead>\n",
        "    <tr style=\"text-align: right;\">\n",
        "      <th>prediction</th>\n",
        "      <th>0.0</th>\n",
        "      <th>1.0</th>\n",
        "    </tr>\n",
        "    <tr>\n",
        "      <th>actual</th>\n",
        "      <th></th>\n",
        "      <th></th>\n",
        "    </tr>\n",
        "  </thead>\n",
        "  <tbody>\n",
        "    <tr>\n",
        "      <th>0</th>\n",
        "      <td> 213</td>\n",
        "      <td>  28</td>\n",
        "    </tr>\n",
        "    <tr>\n",
        "      <th>1</th>\n",
        "      <td>  52</td>\n",
        "      <td> 125</td>\n",
        "    </tr>\n",
        "  </tbody>\n",
        "</table>\n",
        "</div>"
       ],
       "metadata": {},
       "output_type": "pyout",
       "prompt_number": 10,
       "text": [
        "prediction    0    1\n",
        "actual              \n",
        "0           213   28\n",
        "1            52  125"
       ]
      }
     ],
     "prompt_number": 10
    },
    {
     "cell_type": "code",
     "collapsed": false,
     "input": [
      "\"\"\"\n",
      "logistic regression model_3\n",
      "\"\"\"\n",
      "\n",
      "c = 1e4\n",
      "\n",
      "starttime = time.time()\n",
      "\n",
      "f = linear_model.LogisticRegression(tol=0.001, C=c)\n",
      "f.fit(x_train, y_train)\n",
      "y_pred = f.predict(x_test)\n",
      "\n",
      "endtime = time.time()\n",
      "\n",
      "score = f.score(x_test,y_test)\n",
      "\n",
      "print 'C is :{0}'.format(c)\n",
      "print 'Time elasped: {0} s'.format(round(float(endtime - starttime)),2)\n",
      "print score\n",
      "pd.crosstab(y_test, y_pred, rownames=['actual'], \n",
      "            colnames=['prediction'])\n"
     ],
     "language": "python",
     "metadata": {},
     "outputs": [
      {
       "output_type": "stream",
       "stream": "stdout",
       "text": [
        "C is :10000.0\n",
        "Time elasped: 0.0 s\n",
        "0.806220095694\n"
       ]
      },
      {
       "output_type": "stream",
       "stream": "stderr",
       "text": [
        "/home/guowei/anaconda/lib/python2.7/site-packages/pandas/core/config.py:570: DeprecationWarning: height has been deprecated.\n",
        "\n",
        "  warnings.warn(d.msg, DeprecationWarning)\n",
        "/home/guowei/anaconda/lib/python2.7/site-packages/pandas/core/config.py:570: DeprecationWarning: height has been deprecated.\n",
        "\n",
        "  warnings.warn(d.msg, DeprecationWarning)\n"
       ]
      },
      {
       "html": [
        "<div style=\"max-height:1000px;max-width:1500px;overflow:auto;\">\n",
        "<table border=\"1\" class=\"dataframe\">\n",
        "  <thead>\n",
        "    <tr style=\"text-align: right;\">\n",
        "      <th>prediction</th>\n",
        "      <th>0.0</th>\n",
        "      <th>1.0</th>\n",
        "    </tr>\n",
        "    <tr>\n",
        "      <th>actual</th>\n",
        "      <th></th>\n",
        "      <th></th>\n",
        "    </tr>\n",
        "  </thead>\n",
        "  <tbody>\n",
        "    <tr>\n",
        "      <th>0</th>\n",
        "      <td> 213</td>\n",
        "      <td>  28</td>\n",
        "    </tr>\n",
        "    <tr>\n",
        "      <th>1</th>\n",
        "      <td>  53</td>\n",
        "      <td> 124</td>\n",
        "    </tr>\n",
        "  </tbody>\n",
        "</table>\n",
        "</div>"
       ],
       "metadata": {},
       "output_type": "pyout",
       "prompt_number": 11,
       "text": [
        "prediction    0    1\n",
        "actual              \n",
        "0           213   28\n",
        "1            53  124"
       ]
      }
     ],
     "prompt_number": 11
    }
   ],
   "metadata": {}
  }
 ]
}