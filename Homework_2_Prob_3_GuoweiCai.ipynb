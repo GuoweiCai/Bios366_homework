{
 "metadata": {
  "name": ""
 },
 "nbformat": 3,
 "nbformat_minor": 0,
 "worksheets": [
  {
   "cells": [
    {
     "cell_type": "markdown",
     "metadata": {},
     "source": [
      "## Question 3\n",
      "\n",
      "The `titanic.xls` spreadsheet in the `data` directory contains data regarding the passengers on the Titanic when it sank in 1912. A recent [Kaggle competition](http://www.kaggle.com/c/titanic-gettingStarted) was based on predicting survival for passengers based on the attributes in the passenger list. \n",
      "\n",
      "Use scikit-learn to build both a support vector classifier and a logistic regression model to predict survival on the Titanic. Use cross-validation to assess your models, and try to tune them to improve performance.\n",
      "\n",
      "Discuss the benefits and drawbacks of both approaches for application to such problems."
     ]
    },
    {
     "cell_type": "markdown",
     "metadata": {},
     "source": [
      "##1. Praperation##"
     ]
    },
    {
     "cell_type": "code",
     "collapsed": false,
     "input": [
      "\"\"\"\n",
      "Import packages\n",
      "\"\"\"\n",
      "from sklearn import linear_model\n",
      "import pymc as pm\n",
      "import numpy as np\n",
      "import pandas as pd\n",
      "import time"
     ],
     "language": "python",
     "metadata": {},
     "outputs": [],
     "prompt_number": 1
    },
    {
     "cell_type": "code",
     "collapsed": false,
     "input": [
      "\"\"\"\n",
      "Import data\n",
      "\"\"\"\n",
      "titanic = pd.read_excel(\"../data/titanic.xls\", \"titanic\")\n",
      "titanic"
     ],
     "language": "python",
     "metadata": {},
     "outputs": [
      {
       "output_type": "stream",
       "stream": "stderr",
       "text": [
        "/home/guowei/anaconda/lib/python2.7/site-packages/pandas/core/config.py:570: DeprecationWarning: height has been deprecated.\n",
        "\n",
        "  warnings.warn(d.msg, DeprecationWarning)\n"
       ]
      },
      {
       "html": [
        "<pre>\n",
        "&lt;class 'pandas.core.frame.DataFrame'&gt;\n",
        "Int64Index: 1309 entries, 0 to 1308\n",
        "Data columns (total 14 columns):\n",
        "pclass       1309  non-null values\n",
        "survived     1309  non-null values\n",
        "name         1309  non-null values\n",
        "sex          1309  non-null values\n",
        "age          1046  non-null values\n",
        "sibsp        1309  non-null values\n",
        "parch        1309  non-null values\n",
        "ticket       1309  non-null values\n",
        "fare         1308  non-null values\n",
        "cabin        295  non-null values\n",
        "embarked     1307  non-null values\n",
        "boat         486  non-null values\n",
        "body         121  non-null values\n",
        "home.dest    745  non-null values\n",
        "dtypes: float64(7), object(7)\n",
        "</pre>"
       ],
       "metadata": {},
       "output_type": "pyout",
       "prompt_number": 2,
       "text": [
        "<class 'pandas.core.frame.DataFrame'>\n",
        "Int64Index: 1309 entries, 0 to 1308\n",
        "Data columns (total 14 columns):\n",
        "pclass       1309  non-null values\n",
        "survived     1309  non-null values\n",
        "name         1309  non-null values\n",
        "sex          1309  non-null values\n",
        "age          1046  non-null values\n",
        "sibsp        1309  non-null values\n",
        "parch        1309  non-null values\n",
        "ticket       1309  non-null values\n",
        "fare         1308  non-null values\n",
        "cabin        295  non-null values\n",
        "embarked     1307  non-null values\n",
        "boat         486  non-null values\n",
        "body         121  non-null values\n",
        "home.dest    745  non-null values\n",
        "dtypes: float64(7), object(7)"
       ]
      }
     ],
     "prompt_number": 2
    },
    {
     "cell_type": "markdown",
     "metadata": {},
     "source": [
      "##2. Data manipulation##"
     ]
    },
    {
     "cell_type": "code",
     "collapsed": false,
     "input": [
      "\"\"\"\n",
      "Remove variables with too few data\n",
      "\"\"\"\n",
      "titanic.pop('home.dest')\n",
      "titanic.pop('body')\n",
      "titanic.pop('boat')\n",
      "titanic.pop('cabin')\n",
      "titanic.pop('name')\n",
      "titanic.pop('ticket')"
     ],
     "language": "python",
     "metadata": {},
     "outputs": [
      {
       "metadata": {},
       "output_type": "pyout",
       "prompt_number": 3,
       "text": [
        "0        24160\n",
        "1       113781\n",
        "2       113781\n",
        "3       113781\n",
        "4       113781\n",
        "5        19952\n",
        "6        13502\n",
        "7       112050\n",
        "8        11769\n",
        "9     PC 17609\n",
        "10    PC 17757\n",
        "11    PC 17757\n",
        "12    PC 17477\n",
        "13       19877\n",
        "14       27042\n",
        "...\n",
        "1294               54636\n",
        "1295    SOTON/OQ 3101317\n",
        "1296              315154\n",
        "1297          A/4. 34244\n",
        "1298              345771\n",
        "1299                2659\n",
        "1300                2659\n",
        "1301                2628\n",
        "1302                2647\n",
        "1303                2627\n",
        "1304                2665\n",
        "1305                2665\n",
        "1306                2656\n",
        "1307                2670\n",
        "1308              315082\n",
        "Name: ticket, Length: 1309, dtype: object"
       ]
      }
     ],
     "prompt_number": 3
    },
    {
     "cell_type": "code",
     "collapsed": false,
     "input": [
      "\"\"\"\n",
      "Replacement with numeric value\n",
      "\"\"\"\n",
      "titanic.embarked=titanic.embarked.replace({'S':0,'C':1,'Q':2})\n",
      "titanic.sex=titanic.sex.replace({'male':0,'female':1})"
     ],
     "language": "python",
     "metadata": {},
     "outputs": [],
     "prompt_number": 4
    },
    {
     "cell_type": "code",
     "collapsed": false,
     "input": [
      "\"\"\"\n",
      "Throw the datasets that has null values in any variables\n",
      "\"\"\"\n",
      "bool_mat = np.array([True]*len(titanic))\n",
      "for i in range(len(titanic)):\n",
      "    if isinstance(titanic.embarked[i],float) or isnan(titanic.age[i]) or isnan(titanic.fare[i]):\n",
      "        bool_mat[i] = False\n",
      "        \n",
      "titanic_copy = titanic[bool_mat]"
     ],
     "language": "python",
     "metadata": {},
     "outputs": [],
     "prompt_number": 5
    },
    {
     "cell_type": "markdown",
     "metadata": {},
     "source": [
      "##3. Data split##"
     ]
    },
    {
     "cell_type": "code",
     "collapsed": false,
     "input": [
      "y = titanic_copy.pop('survived').values\n",
      "x = titanic_copy.values\n",
      "\n",
      "from sklearn import cross_validation, svm\n",
      "\n",
      "x_train, x_test, y_train, y_test = cross_validation.train_test_split(\n",
      "        x, y, test_size=0.4, random_state=0)"
     ],
     "language": "python",
     "metadata": {},
     "outputs": [],
     "prompt_number": 6
    },
    {
     "cell_type": "markdown",
     "metadata": {},
     "source": [
      "##4. Model building##"
     ]
    },
    {
     "cell_type": "code",
     "collapsed": false,
     "input": [
      "\"\"\"\n",
      "SVM_Linear\n",
      "\"\"\"\n",
      "\n",
      "def svc_linear(c):\n",
      "    \n",
      "    for i in arange(np.size(c)):\n",
      "        \n",
      "        starttime = time.time()\n",
      "    \n",
      "        svc_linear_1 = svm.SVC(kernel='linear', C=c[i])\n",
      "        scores = cross_validation.cross_val_score(svc_linear_1, x_train, y_train, cv=5)\n",
      "        \n",
      "        endtime = time.time()\n",
      "        print 'C is :{0}'.format(c[i])\n",
      "        print 'Time elaspes: {0} s'.format(round(float(endtime - starttime)),2)\n",
      "        print scores\n",
      "        print ''\n",
      "\n",
      "c = [1e-4, 1, 1e4]\n",
      "svc_linear(c)"
     ],
     "language": "python",
     "metadata": {},
     "outputs": []
    },
    {
     "cell_type": "code",
     "collapsed": false,
     "input": [
      "\"\"\"\n",
      "logistic regression model\n",
      "\"\"\"\n",
      "\n",
      "def log_reg(c):\n",
      "    for i in arange(np.size(c)):\n",
      "        \n",
      "        starttime = time.time()\n",
      "        \n",
      "        f = linear_model.LogisticRegression(tol=0.001, C=c[i])\n",
      "        f.fit(x_train, y_train)\n",
      "        y_pred = f.predict(x_test)\n",
      "        \n",
      "        endtime = time.time()\n",
      "        \n",
      "        score = f.score(x_test,y_test)\n",
      "        \n",
      "        print 'C is :{0}'.format(c[i])\n",
      "        print 'Time elaspes: {0} s'.format(round(float(endtime - starttime)),2)\n",
      "        print score\n",
      "        pd.crosstab(y_test, y_pred, rownames=['actual'], \n",
      "                    colnames=['prediction'])"
     ],
     "language": "python",
     "metadata": {},
     "outputs": []
    }
   ],
   "metadata": {}
  }
 ]
}