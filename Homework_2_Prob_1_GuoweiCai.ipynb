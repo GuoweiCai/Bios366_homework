{
 "metadata": {
  "name": ""
 },
 "nbformat": 3,
 "nbformat_minor": 0,
 "worksheets": [
  {
   "cells": [
    {
     "cell_type": "markdown",
     "metadata": {},
     "source": [
      "## Question 1\n",
      "\n",
      "The goal of this problem is to investigate the role of the proposal distribution in a Metropolis-Hastings algorithm designed to simulate from the posterior distribution of the mixture parameter $\\delta$. \n",
      "\n",
      "1. Simulate 200 realizations from the mixture distribution:\n",
      "    $$y_i \\sim \\delta N(7, 0.5^2) + (1-\\delta) N(10, 0.5^2)$$\n",
      "    with $\\delta = 0.7$. Plot a histogram of these data. \n",
      "2. Implement an ABC procedure to simulate from the posterior distribution of $\\delta$, using your data from part (1). \n",
      "3. Implement a random walk M-H algorithm with proposal $\\delta\\prime = \\delta^{(i)} + \\epsilon$ with $\\epsilon \\sim Unif(\u22121,1)$. \n",
      "4. Reparameterize the problem letting $U = \\log\\left[\\frac{\\delta}{1 - \\delta}\\right]$ and $u\\prime = u^{(i)} + \\epsilon$. Implement a random walk chain in U-space. (Hint: you need to account for this transformation in your acceptance probability) \n",
      "5. Compare the estimates and convergence behavior of the three algorithms.\n",
      "\n",
      "In part (1), you are asked to simulate data from a distribution with $\\delta$ known. For parts (2)\u2013(4), assume $\\delta$ is unknown with prior $\\delta \\sim Unif( 0,1)$. For parts (2)\u2013(4), provide an appropriate plot and a table summarizing the output of the algorithm. To facilitate comparisons, use the same number of iterations, random seed, starting values, and burn-in period for all implementations of the algorithm. "
     ]
    },
    {
     "cell_type": "code",
     "collapsed": false,
     "input": [
      "%pylab inline\n",
      "import numpy as np\n",
      "import matplotlib.pyplot as plt\n",
      "from scipy.stats import distributions, norm, gaussian_kde\n",
      "import random\n",
      "from scipy.optimize import fmin_bfgs\n",
      "import time"
     ],
     "language": "python",
     "metadata": {},
     "outputs": [
      {
       "output_type": "stream",
       "stream": "stdout",
       "text": [
        "Populating the interactive namespace from numpy and matplotlib\n"
       ]
      },
      {
       "output_type": "stream",
       "stream": "stderr",
       "text": [
        "WARNING: pylab import has clobbered these variables: ['norm', 'size', 'random']\n",
        "`%pylab --no-import-all` prevents importing * from pylab and numpy\n"
       ]
      }
     ],
     "prompt_number": 98
    },
    {
     "cell_type": "markdown",
     "metadata": {},
     "source": [
      "**1.1 Simulation of a mixture simulation**"
     ]
    },
    {
     "cell_type": "markdown",
     "metadata": {},
     "source": [
      "           *--Parameters--*"
     ]
    },
    {
     "cell_type": "code",
     "collapsed": false,
     "input": [
      "size = 200              # Nb of realizations\n",
      "delta = .7              # Ratio\n",
      "mu_true = [7, 10]       # Mean vector\n",
      "sig_true = [.5, .5]     # Sd vector"
     ],
     "language": "python",
     "metadata": {},
     "outputs": [],
     "prompt_number": 99
    },
    {
     "cell_type": "markdown",
     "metadata": {},
     "source": [
      "           *--Sampling function--*"
     ]
    },
    {
     "cell_type": "code",
     "collapsed": false,
     "input": [
      "def sample_y(mu, sigma, delta, size):\n",
      "    # First sample label, according to B(n = size, p = delta)\n",
      "    z = np.random.binomial(1, delta, size)\n",
      "    # Sample corresponding distribution\n",
      "    x = [np.random.normal(mu[i], sigma[i]) for i in z]  # Sample \n",
      "    return x"
     ],
     "language": "python",
     "metadata": {},
     "outputs": [],
     "prompt_number": 100
    },
    {
     "cell_type": "markdown",
     "metadata": {},
     "source": [
      "          *--Plot of mixture distribution--*"
     ]
    },
    {
     "cell_type": "code",
     "collapsed": false,
     "input": [
      "y = sample_y(mu_true, sig_true, delta, size)\n",
      "_ = plt.hist(x, bins=20)\n",
      "plt.grid(True)\n",
      "plt.title('Histogram of the mixture distribution')\n",
      "plt.savefig('1.png')"
     ],
     "language": "python",
     "metadata": {},
     "outputs": [
      {
       "metadata": {},
       "output_type": "display_data",
       "png": "[encoded data removed]",
       "text": [
        "<matplotlib.figure.Figure at 0x523ddd0>"
       ]
      }
     ],
     "prompt_number": 101
    },
    {
     "cell_type": "markdown",
     "metadata": {},
     "source": [
      "**1.2 Use an ABC procedure to simulate posterior**"
     ]
    },
    {
     "cell_type": "markdown",
     "metadata": {},
     "source": [
      "          *--Parameters--*"
     ]
    },
    {
     "cell_type": "code",
     "collapsed": false,
     "input": [
      "N = 1000\n",
      "epsilon = [30, 0.3, 1]\n"
     ],
     "language": "python",
     "metadata": {},
     "outputs": [],
     "prompt_number": 107
    },
    {
     "cell_type": "markdown",
     "metadata": {},
     "source": [
      "          *--ABC--*"
     ]
    },
    {
     "cell_type": "code",
     "collapsed": false,
     "input": [
      "Trace = []\n",
      "while len(Trace) < N:\n",
      "    \n",
      "    delta = np.random.uniform()\n",
      "    \n",
      "    x = sample_y(mu_true, sig_true, delta, size)\n",
      "    # Constrain on norm\n",
      "    z = []\n",
      "    \n",
      "    for i in arange(np.size(x)):\n",
      "        z.append(x[i] - y[i])\n",
      "    \n",
      "    if np.linalg.norm(z) < epsilon[0]:\n",
      "        endtime = time.time()\n",
      "        # Constrain on mean and std\n",
      "        if ((abs(np.mean(x) - np.mean(y)) < epsilon[0]) & (abs(np.std(x) - np.std(y)) < epsilon[1])):\n",
      "            # Appending to trace\n",
      "            Trace.append(delta)\n",
      "Delta_ABC = np.mean(Trace)            \n",
      "print 'The estimation of delta is {0}'.format(np.mean(Trace))"
     ],
     "language": "python",
     "metadata": {},
     "outputs": [
      {
       "output_type": "stream",
       "stream": "stdout",
       "text": [
        "The estimation of delta is 0.730032873418\n"
       ]
      }
     ],
     "prompt_number": 128
    },
    {
     "cell_type": "markdown",
     "metadata": {},
     "source": [
      "           *--Plot--*"
     ]
    },
    {
     "cell_type": "code",
     "collapsed": false,
     "input": [
      "# Plot histogram\n",
      "plt.hist(Trace, normed = 1)\n",
      "# Plot kernal density estimation\n",
      "x = np.linspace(0.4, 1, 1000)\n",
      "plt.plot(x, kernal(x))\n",
      "est = plt.plot(Delta_ABC, kernal(Delta_ABC), 'r*')\n",
      "true = plt.plot(delta, kernal(delta), 'gp')\n",
      "plt.legend([est[0], true[0]], ['Estimate (mean)', 'True'])\n",
      "plt.grid(True)\n",
      "plt.title('Posterior of delta by ABC')\n",
      "print ''"
     ],
     "language": "python",
     "metadata": {},
     "outputs": [
      {
       "output_type": "stream",
       "stream": "stdout",
       "text": [
        "\n"
       ]
      },
      {
       "metadata": {},
       "output_type": "display_data",
       "png": "[encoded data removed]",
       "text": [
        "<matplotlib.figure.Figure at 0x6d5d110>"
       ]
      }
     ],
     "prompt_number": 176
    },
    {
     "cell_type": "code",
     "collapsed": false,
     "input": [
      "\"\"\"\n",
      "1.3\n",
      "Random walk M-H\n",
      "\"\"\"\n",
      "from scipy.stats import distributions\n",
      "dnorm = distributions.norm.logpdf\n",
      "\n",
      "delta_prior = 1\n",
      "\n",
      "def calc_posterior(delta_prior, mu_1, sig_1, mu_2, sig_2, y1, y2):\n",
      "    # Calculate joint posterior, given values for a, b and t\n",
      "\n",
      "    # Priors on delta\n",
      "    logp = np.log(delta_prior)\n",
      "    \n",
      "    # Data likelihood for 1st distribution\n",
      "    logp += dnorm(y1, mu_1, sig_1).sum()\n",
      "    \n",
      "    # Data likelihood for 2nd distribution\n",
      "    logp += dnorm(y2, mu_2, sig_2).sum()\n",
      "    \n",
      "    return logp\n",
      "\n",
      "\n",
      "\n",
      "rnorm = np.random.normal\n",
      "runif = np.random.rand\n",
      "\n",
      "def metropolis(n_iterations, initial_values, prop_var=1):\n",
      "            \n",
      "    # Initial proposal standard deviations\n",
      "    prop_sd = prop_var\n",
      "    \n",
      "    # Initialize trace for parameters\n",
      "    trace = np.empty(n_iterations+1)\n",
      "    \n",
      "    # Set initial values\n",
      "    trace[0] = initial_values\n",
      "        \n",
      "    # Calculate joint posterior for initial values\n",
      "    current_log_prob = calc_posterior(*trace[0])\n",
      "    \n",
      "    # Initialize acceptance counts\n",
      "    accepted = [0]\n",
      "    \n",
      "    for i in range(n_iterations):\n",
      "    \n",
      "        if not i%1000: print 'Iteration', i\n",
      "    \n",
      "        # Grab current parameter values\n",
      "        current_params = trace[i]\n",
      "    \n",
      "   \n",
      "\n",
      "        # Get current value for parameter j\n",
      "        p = trace[i].copy()\n",
      "\n",
      "        # Propose new value\n",
      "    \n",
      "        epsilon = np.random.uniform(-1, 1)\n",
      "        \n",
      "        delta = current_params + epsilon\n",
      "        \n",
      "        # Insert new value \n",
      "        p = delta\n",
      "\n",
      "        # Calculate log posterior with proposed value\n",
      "        proposed_log_prob = calc_posterior(*p)\n",
      "\n",
      "        # Log-acceptance rate\n",
      "        alpha = proposed_log_prob - current_log_prob\n",
      "\n",
      "        # Sample a uniform random variate\n",
      "        u = runif()\n",
      "\n",
      "        # Test proposed value\n",
      "        if np.log(u) < alpha:\n",
      "            # Accept\n",
      "            trace[i+1] = theta\n",
      "            current_log_prob = proposed_log_prob\n",
      "            accepted += 1\n",
      "        else:\n",
      "            # Reject\n",
      "            trace[i+1] = trace[i]\n",
      "                \n",
      "    return trace, accepted"
     ],
     "language": "python",
     "metadata": {},
     "outputs": []
    }
   ],
   "metadata": {}
  }
 ]
}