{
 "metadata": {
  "name": ""
 },
 "nbformat": 3,
 "nbformat_minor": 0,
 "worksheets": [
  {
   "cells": [
    {
     "cell_type": "markdown",
     "metadata": {},
     "source": [
      "## Question 1\n",
      "\n",
      "The goal of this problem is to investigate the role of the proposal distribution in a Metropolis-Hastings algorithm designed to simulate from the posterior distribution of the mixture parameter $\\delta$. \n",
      "\n",
      "1. Simulate 200 realizations from the mixture distribution:\n",
      "    $$y_i \\sim \\delta N(7, 0.5^2) + (1-\\delta) N(10, 0.5^2)$$\n",
      "    with $\\delta = 0.7$. Plot a histogram of these data. \n",
      "2. Implement an ABC procedure to simulate from the posterior distribution of $\\delta$, using your data from part (1). \n",
      "3. Implement a random walk M-H algorithm with proposal $\\delta\\prime = \\delta^{(i)} + \\epsilon$ with $\\epsilon \\sim Unif(\u22121,1)$. \n",
      "4. Reparameterize the problem letting $U = \\log\\left[\\frac{\\delta}{1 - \\delta}\\right]$ and $u\\prime = u^{(i)} + \\epsilon$. Implement a random walk chain in U-space. (Hint: you need to account for this transformation in your acceptance probability) \n",
      "5. Compare the estimates and convergence behavior of the three algorithms.\n",
      "\n",
      "In part (1), you are asked to simulate data from a distribution with $\\delta$ known. For parts (2)\u2013(4), assume $\\delta$ is unknown with prior $\\delta \\sim Unif( 0,1)$. For parts (2)\u2013(4), provide an appropriate plot and a table summarizing the output of the algorithm. To facilitate comparisons, use the same number of iterations, random seed, starting values, and burn-in period for all implementations of the algorithm. "
     ]
    },
    {
     "cell_type": "code",
     "collapsed": false,
     "input": [
      "from scipy.stats import distributions, norm, gaussian_kde\n",
      "import random\n",
      "from scipy.optimize import fmin_bfgs\n",
      "import time"
     ],
     "language": "python",
     "metadata": {},
     "outputs": [],
     "prompt_number": 115
    },
    {
     "cell_type": "markdown",
     "metadata": {},
     "source": [
      "**1.1 Simulation of a mixture simulation**"
     ]
    },
    {
     "cell_type": "markdown",
     "metadata": {},
     "source": [
      "           *--Parameters--*"
     ]
    },
    {
     "cell_type": "code",
     "collapsed": false,
     "input": [
      "size = 200              # Nb of realizations\n",
      "delta_true = .7              # Ratio\n",
      "mu_true = [7, 10]       # Mean vector\n",
      "sig_true = [.5, .5]     # Sd vector"
     ],
     "language": "python",
     "metadata": {},
     "outputs": [],
     "prompt_number": 116
    },
    {
     "cell_type": "markdown",
     "metadata": {},
     "source": [
      "           *--Sampling function--*"
     ]
    },
    {
     "cell_type": "code",
     "collapsed": false,
     "input": [
      "def sample_y(mu, sigma, delta_true, size):\n",
      "    # First sample label, according to B(n = size, p = delta)\n",
      "    z = np.random.binomial(1, delta_true, size)\n",
      "    # Sample corresponding distribution\n",
      "    x = [np.random.normal(mu[i], sigma[i]) for i in z]  # Sample \n",
      "    return x"
     ],
     "language": "python",
     "metadata": {},
     "outputs": [],
     "prompt_number": 117
    },
    {
     "cell_type": "markdown",
     "metadata": {},
     "source": [
      "          *--Plot of mixture distribution--*"
     ]
    },
    {
     "cell_type": "code",
     "collapsed": false,
     "input": [
      "y = sample_y(mu_true, sig_true, delta_true, size)\n",
      "_ = plt.hist(y, bins=20)\n",
      "plt.grid(True)\n",
      "plt.title('Histogram of the mixture distribution')\n",
      "plt.savefig('1.png')"
     ],
     "language": "python",
     "metadata": {},
     "outputs": [
      {
       "metadata": {},
       "output_type": "display_data",
       "png": "[encoded data removed]",
       "text": [
        "<matplotlib.figure.Figure at 0x4260350>"
       ]
      }
     ],
     "prompt_number": 120
    },
    {
     "cell_type": "markdown",
     "metadata": {},
     "source": [
      "**1.2 Use an ABC procedure to simulate posterior**"
     ]
    },
    {
     "cell_type": "markdown",
     "metadata": {},
     "source": [
      "          *--Parameters--*"
     ]
    },
    {
     "cell_type": "code",
     "collapsed": false,
     "input": [
      "N = 1000\n",
      "epsilon = [30, 0.3, 1]\n"
     ],
     "language": "python",
     "metadata": {},
     "outputs": [],
     "prompt_number": 121
    },
    {
     "cell_type": "markdown",
     "metadata": {},
     "source": [
      "          *--ABC--*"
     ]
    },
    {
     "cell_type": "code",
     "collapsed": false,
     "input": [
      "Trace = []\n",
      "while len(Trace) < N:\n",
      "    \n",
      "    delta = np.random.uniform()\n",
      "    \n",
      "    x = sample_y(mu_true, sig_true, delta, size)\n",
      "    # Constrain on norm\n",
      "    z = []\n",
      "    \n",
      "    for i in arange(np.size(x)):\n",
      "        z.append(x[i] - y[i])\n",
      "    \n",
      "    if np.linalg.norm(z) < epsilon[0]:\n",
      "        endtime = time.time()\n",
      "        # Constrain on mean and std\n",
      "        if ((abs(np.mean(x) - np.mean(y)) < epsilon[0]) & (abs(np.std(x) - np.std(y)) < epsilon[1])):\n",
      "            # Appending to trace\n",
      "            Trace.append(delta)\n",
      "Delta_ABC = np.mean(Trace)            \n",
      "print 'The estimation of delta is {0}'.format(np.mean(Trace))"
     ],
     "language": "python",
     "metadata": {},
     "outputs": [
      {
       "output_type": "stream",
       "stream": "stdout",
       "text": [
        "The estimation of delta is 0.706074708769\n"
       ]
      }
     ],
     "prompt_number": 126
    },
    {
     "cell_type": "markdown",
     "metadata": {},
     "source": [
      "           *--Plot--*"
     ]
    },
    {
     "cell_type": "code",
     "collapsed": false,
     "input": [
      "# Plot histogram\n",
      "plt.hist(Trace, normed = 1)\n",
      "# Plot kernal density estimation\n",
      "kernal = gaussian_kde(Trace)\n",
      "x = np.linspace(0.4, 1, 1000)\n",
      "plt.plot(x, kernal(x))\n",
      "est = plt.plot(Delta_ABC, kernal(Delta_ABC), 'r*')\n",
      "true = plt.plot(delta_true, kernal(delta_true), 'gp')\n",
      "plt.legend([est[0], true[0]], ['Estimate (mean)', 'True'], loc = 'best')\n",
      "plt.grid(True)\n",
      "plt.title('Posterior of delta by ABC')\n",
      "print ''"
     ],
     "language": "python",
     "metadata": {},
     "outputs": [
      {
       "output_type": "stream",
       "stream": "stdout",
       "text": [
        "\n"
       ]
      },
      {
       "metadata": {},
       "output_type": "display_data",
       "png": "[encoded data removed]",
       "text": [
        "<matplotlib.figure.Figure at 0x5612110>"
       ]
      }
     ],
     "prompt_number": 128
    },
    {
     "cell_type": "markdown",
     "metadata": {},
     "source": [
      "** 1.3 Random walk M-H **"
     ]
    },
    {
     "cell_type": "code",
     "collapsed": false,
     "input": [
      "\"\"\"\n",
      "1.3\n",
      "Random walk M-H\n",
      "\"\"\"\n",
      "def sample_y(delta):\n",
      "    y = [delta[i]*np.random.normal(7,0.5)+(1-delta[i])*np.random.normal(10,0.5) for i in range(np.size(delta))]\n",
      "    return y\n",
      "\n",
      "y = sample_y([.7]*200)\n",
      "\n",
      "def posterior_delta(delta, lower,upper, y):\n",
      "    y_pred=sample_y(delta)\n",
      "    like = [(sp.stats.norm.pdf(y_pred[i] - y,0,0.05)*sp.stats.uniform.pdf(delta[i],lower,upper)).sum() \n",
      "            for i in range(np.size(delta))]\n",
      "    return like\n",
      "\n",
      "random.seed(3000)\n",
      "samples = 1000\n",
      "lower = 0;\n",
      "upper = 1;\n",
      "\n",
      "def metropolis(n_iterations, initial_values):\n",
      "    n_params = len(initial_values)        \n",
      "    # Initialize trace for parameters\n",
      "    trace = np.empty((n_iterations+1, n_params))\n",
      "    # Set initial values\n",
      "    trace[0] = initial_values    \n",
      "    # Calculate joint posterior for initial values\n",
      "    current_prob = posterior_delta(trace[0], lower, upper, y)\n",
      "    # Initialize acceptance counts\n",
      "    accepted = [0]*n_params\n",
      "\n",
      "    for i in range(n_iterations):\n",
      "        if not i%1000: print 'Iteration', i\n",
      "    \n",
      "        # Grab current parameter values\n",
      "        current_params = trace[i]\n",
      "    \n",
      "        # Get current value for parameter j\n",
      "        p = trace[i].copy()\n",
      "    \n",
      "        # Propose new value\n",
      "        theta = current_params+np.random.uniform(-1,1)\n",
      "    \n",
      "        # Calculate log posterior with proposed value\n",
      "        proposed_prob = posterior_delta(theta, lower, upper, y)\n",
      "    \n",
      "        # Log-acceptance rate\n",
      "        alpha = proposed_prob[0]/current_prob[0]\n",
      "    \n",
      "        # Sample a uniform random variate\n",
      "        u = runif()\n",
      "    \n",
      "        # Test proposed value\n",
      "        if u < alpha:\n",
      "            # Accept\n",
      "            trace[i+1] = theta\n",
      "            current_prob = proposed_prob\n",
      "            accepted[0] += 1\n",
      "        else:\n",
      "            # Reject\n",
      "            trace[i+1] = trace[i]\n",
      "    return trace, accepted\n",
      "\n",
      "n_iter = 10000\n",
      "init = np.array([0.2])\n",
      "trace, acc = metropolis(n_iter, np.array([0.2]))\n",
      "\n",
      "print np.array(acc, float)/n_iter\n",
      "\n",
      "for param, samples in zip(['intercept', 'slope', 'precision'], trace.T):\n",
      "    fig, axes = plt.subplots(1, 2)\n",
      "    axes[0].plot(samples)\n",
      "    axes[0].set_ylabel(param)\n",
      "    axes[0].grid(True)\n",
      "    axes[1].hist(samples[n_iter/2:])\n",
      "    axes[1].grid(True)"
     ],
     "language": "python",
     "metadata": {},
     "outputs": [
      {
       "output_type": "stream",
       "stream": "stdout",
       "text": [
        "Iteration 0\n",
        "Iteration"
       ]
      },
      {
       "output_type": "stream",
       "stream": "stdout",
       "text": [
        " 1000\n",
        "Iteration"
       ]
      },
      {
       "output_type": "stream",
       "stream": "stdout",
       "text": [
        " 2000\n",
        "Iteration"
       ]
      },
      {
       "output_type": "stream",
       "stream": "stdout",
       "text": [
        " 3000\n",
        "Iteration"
       ]
      },
      {
       "output_type": "stream",
       "stream": "stdout",
       "text": [
        " 4000\n",
        "Iteration"
       ]
      },
      {
       "output_type": "stream",
       "stream": "stdout",
       "text": [
        " 5000\n",
        "Iteration"
       ]
      },
      {
       "output_type": "stream",
       "stream": "stdout",
       "text": [
        " 6000\n",
        "Iteration"
       ]
      },
      {
       "output_type": "stream",
       "stream": "stdout",
       "text": [
        " 7000\n",
        "Iteration"
       ]
      },
      {
       "output_type": "stream",
       "stream": "stdout",
       "text": [
        " 8000\n",
        "Iteration"
       ]
      },
      {
       "output_type": "stream",
       "stream": "stdout",
       "text": [
        " 9000\n",
        "[ 0.1963]"
       ]
      },
      {
       "output_type": "stream",
       "stream": "stdout",
       "text": [
        "\n"
       ]
      },
      {
       "metadata": {},
       "output_type": "display_data",
       "png": "[encoded data removed]",
       "text": [
        "<matplotlib.figure.Figure at 0x5b99710>"
       ]
      }
     ],
     "prompt_number": 135
    },
    {
     "cell_type": "markdown",
     "metadata": {},
     "source": [
      "** 1.4 Random walk M-H in U-space**"
     ]
    },
    {
     "cell_type": "code",
     "collapsed": false,
     "input": [
      "def metropolis_u_space(n_iterations, initial_values):\n",
      "    n_params = len(initial_values)        \n",
      "    # Initialize trace for parameters\n",
      "    trace = np.empty((n_iterations+1, n_params))\n",
      "    # Set initial values\n",
      "    trace[0] = initial_values    \n",
      "    # Calculate joint posterior for initial values\n",
      "    current_prob = posterior_delta(trace[0],lower,upper,y_obs)\n",
      "    # Initialize acceptance counts\n",
      "    accepted = [0]*n_params\n",
      "\n",
      "    for i in range(n_iterations):\n",
      "        if not i%1000: print 'Iteration', i\n",
      "    \n",
      "        # Grab current parameter values\n",
      "        current_params = np.log(trace[i]/(1-trace[i]))\n",
      "        # Propose new value\n",
      "        p = current_params+np.random.uniform(-1,1)\n",
      "        theta = np.exp(p)/(1+np.exp(p))\n",
      "        \n",
      "        # Calculate log posterior with proposed value\n",
      "        proposed_prob = posterior_delta(theta,lower,upper,y_obs)\n",
      "    \n",
      "        # Log-acceptance rate\n",
      "        alpha = np.log((proposed_prob[0]/current_prob[0])/(1-proposed_prob[0]/current_prob[0]))\n",
      "    \n",
      "        # Sample a uniform random variate\n",
      "        u = runif()\n",
      "    \n",
      "        # Test proposed value\n",
      "        if u < alpha:\n",
      "            # Accept\n",
      "            trace[i+1] = theta\n",
      "            current_prob = proposed_prob\n",
      "            accepted[0] += 1\n",
      "        else:\n",
      "            # Reject\n",
      "            trace[i+1] = trace[i]\n",
      "    return trace, accepted\n",
      "\n",
      "\n",
      "n_iter = 10000\n",
      "init = np.array([0.2])\n",
      "trace_u_space, acc_u_space = metropolis(n_iter, np.array([0.2]))\n",
      "\n",
      "\n",
      "print np.array(acc_u_space, float)/n_iter\n",
      "\n",
      "for param, samples in zip(['intercept', 'slope', 'precision'], trace_u_space.T):\n",
      "    fig, axes = plt.subplots(1, 2)\n",
      "    axes[0].plot(samples)\n",
      "    axes[0].set_ylabel(param)\n",
      "    axes[0].grid(True)\n",
      "    axes[1].hist(samples[n_iter/2:])\n",
      "    axes[1].grid(True)"
     ],
     "language": "python",
     "metadata": {},
     "outputs": [
      {
       "output_type": "stream",
       "stream": "stdout",
       "text": [
        "Iteration 0\n",
        "Iteration"
       ]
      },
      {
       "output_type": "stream",
       "stream": "stdout",
       "text": [
        " 1000\n",
        "Iteration"
       ]
      },
      {
       "output_type": "stream",
       "stream": "stdout",
       "text": [
        " 2000\n",
        "Iteration"
       ]
      },
      {
       "output_type": "stream",
       "stream": "stdout",
       "text": [
        " 3000\n",
        "Iteration"
       ]
      },
      {
       "output_type": "stream",
       "stream": "stdout",
       "text": [
        " 4000\n",
        "Iteration"
       ]
      },
      {
       "output_type": "stream",
       "stream": "stdout",
       "text": [
        " 5000\n",
        "Iteration"
       ]
      },
      {
       "output_type": "stream",
       "stream": "stdout",
       "text": [
        " 6000\n",
        "Iteration"
       ]
      },
      {
       "output_type": "stream",
       "stream": "stdout",
       "text": [
        " 7000\n",
        "Iteration"
       ]
      },
      {
       "output_type": "stream",
       "stream": "stdout",
       "text": [
        " 8000\n",
        "Iteration"
       ]
      },
      {
       "output_type": "stream",
       "stream": "stdout",
       "text": [
        " 9000\n",
        "[ 0.1865]"
       ]
      },
      {
       "output_type": "stream",
       "stream": "stdout",
       "text": [
        "\n"
       ]
      },
      {
       "metadata": {},
       "output_type": "display_data",
       "png": "[encoded data removed]",
       "text": [
        "<matplotlib.figure.Figure at 0x3a0b510>"
       ]
      }
     ],
     "prompt_number": 136
    },
    {
     "cell_type": "markdown",
     "metadata": {},
     "source": [
      "**1.5 Comparison**"
     ]
    },
    {
     "cell_type": "code",
     "collapsed": false,
     "input": [
      "# Mean value comparison\n",
      "print '                              |Estimate|Error|'\n",
      "print 'ABC                              {0}  {1}'.format(np.mean(Trace).round(decimals=3),\n",
      "                                                          (abs(np.mean(Trace)-0.7)/0.7).round(decimals=3))\n",
      "print 'Random walk M-H                  {0}  {1}'.format(np.mean(trace).round(decimals=3),\n",
      "                                                    (abs(np.mean(trace)-0.7)/0.7).round(decimals=3))\n",
      "print 'Random walk M-H in U-space       {0}  {1}'.format(np.mean(trace_u_space).round(decimals=3),\n",
      "                                                         (abs(np.mean(trace_u_space)-0.7)/0.7).round(decimals=3))"
     ],
     "language": "python",
     "metadata": {},
     "outputs": [
      {
       "output_type": "stream",
       "stream": "stdout",
       "text": [
        "                              |Estimate|Error|\n",
        "ABC                              0.706  0.009\n",
        "Random walk M-H                  0.684  0.023\n",
        "Random walk M-H in U-space       0.694  0.008\n"
       ]
      }
     ],
     "prompt_number": 167
    }
   ],
   "metadata": {}
  }
 ]
}