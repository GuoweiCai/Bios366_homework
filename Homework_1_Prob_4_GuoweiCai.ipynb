{
 "metadata": {
  "name": ""
 },
 "nbformat": 3,
 "nbformat_minor": 0,
 "worksheets": [
  {
   "cells": [
    {
     "cell_type": "markdown",
     "metadata": {},
     "source": [
      "## Question 4\n",
      "\n",
      "Suppose $y$ has a binomial distribution with parameters $n$ and $p$, and we are interested in the log-odds value $\\theta = \\log(p/(1 \u2212 p))$. Our prior for $\\theta$ is that $\\theta \\sim N(\\mu, \\sigma^2)$. It follows that the posterior density of $\\theta$ is given, up to a proportionality constant, by:\n",
      "\n",
      "$$g(\\theta | y) \\propto \\frac{\\exp(y\\theta)}{(1 + exp(\\theta))^n} \\exp\\left[\\frac{-(\\theta \u2212 \\mu)^2}{2\\sigma^2}\\right]$$\n",
      "\n",
      "For example, suppose we are interested in learning about the probability that a possibly-biased coin lands heads when tossed. *A priori* we believe that the coin is fair, so we assign $\\theta$ a $N(0,.25)$ prior. We toss the coin $n = 5$ times and obtain $y = 5$ heads.\n",
      "\n",
      "1. Using a normal approximation to the posterior density, compute the probability that the coin is biased toward heads (i.e., that \u03b8 is posi- tive).\n",
      "2. Using the prior density as a proposal density, design a rejection algo- rithm for sampling from the posterior distribution. Using simulated draws from your algorithm, approximate the probability that the coin is biased toward heads.\n",
      "3. Using the prior density as a proposal density, simulate values from the posterior distribution using the SIR algorithm. Approximate the probability that the coin is biased toward heads."
     ]
    },
    {
     "cell_type": "code",
     "collapsed": false,
     "input": [
      "%pylab inline\n",
      "import numpy as np\n",
      "import matplotlib.pyplot as plt\n",
      "from scipy.optimize import fmin_bfgs\n",
      "from scipy import stats"
     ],
     "language": "python",
     "metadata": {},
     "outputs": [
      {
       "output_type": "stream",
       "stream": "stdout",
       "text": [
        "Populating the interactive namespace from numpy and matplotlib\n"
       ]
      },
      {
       "output_type": "stream",
       "stream": "stderr",
       "text": [
        "WARNING: pylab import has clobbered these variables: ['var']\n",
        "`%pylab --no-import-all` prevents importing * from pylab and numpy\n"
       ]
      }
     ],
     "prompt_number": 18
    },
    {
     "cell_type": "code",
     "collapsed": false,
     "input": [
      "\"\"\"\n",
      "1\n",
      "Steps:\n",
      "a. Use second-order Taylor series expansion to approximate\n",
      "b. Use BFGS to do multivariate optimization\n",
      "\"\"\"\n",
      "# Posterior(Log-transformed)\n",
      "def log_odds_post(theta, mu, sig, n, y):\n",
      "    post = y*theta\n",
      "    post -= n*np.log(1 + exp(theta))\n",
      "    post += -(theta - mu)**2/(2*sig**2)\n",
      "    return post\n",
      "\n",
      "# Build min objective function\n",
      "log_odds_post_min = lambda *args: -log_odds_post(*args)\n",
      "\n",
      "# Give an initial guess\n",
      "init_value = 1.0\n",
      "\n",
      "# Optimization\n",
      "opt = fmin_bfgs(log_odds_post_min, init_value, args = (0, .5, 5, 5), full_output = True)\n",
      "\n",
      "# Get mean and var of parameters\n",
      "mode, var = opt[0], opt[3]\n",
      "\n",
      "# Output result\n",
      "print '\\nMode is {0}'.format(mode[0])\n",
      "print 'Var is {0}'.format(var[0][0])\n",
      "\n",
      "# Calculate CDF that theta is positive\n",
      "Pr_theta_positive = 1 - stats.norm.cdf(0, loc = mode[0], scale = np.sqrt(var[0][0]))\n",
      "print '\\nProbability that theta is positive is {0}'.format(Pr_theta_positive)\n",
      "\n",
      "# Plot positive area in PDF\n",
      "x = np.linspace(-3, 3, 100)\n",
      "y = stats.norm.pdf(x, loc = mode[0], scale = np.sqrt(var[0][0]))\n",
      "plt.figure()\n",
      "plt.plot(x, y)\n",
      "plt.xlabel('$\\theta$')\n",
      "plt.ylabel('PDF')\n",
      "plt.grid(True)\n",
      "plt.fill_betweenx(y, x, where= x>0)"
     ],
     "language": "python",
     "metadata": {},
     "outputs": [
      {
       "output_type": "stream",
       "stream": "stdout",
       "text": [
        "Optimization terminated successfully.\n",
        "         Current function value: 2.869167\n",
        "         Iterations: 3\n",
        "         Function evaluations: 15\n",
        "         Gradient evaluations: 5\n",
        "\n",
        "Mode is 0.478313249098\n",
        "Var is 0.193078848275\n",
        "\n",
        "Probability that theta is positive is 0.86182197564\n"
       ]
      },
      {
       "metadata": {},
       "output_type": "pyout",
       "prompt_number": 92,
       "text": [
        "<matplotlib.collections.PolyCollection at 0x3bd1f90>"
       ]
      },
      {
       "metadata": {},
       "output_type": "display_data",
       "png": "[encoded data removed]",
       "text": [
        "<matplotlib.figure.Figure at 0x3bb43d0>"
       ]
      }
     ],
     "prompt_number": 92
    },
    {
     "cell_type": "code",
     "collapsed": false,
     "input": [
      "\"\"\"\n",
      "2.\n",
      "Rejection algorithm\n",
      "g(theta) is N(0, .25), f(theta) is log_odds_post\n",
      "\"\"\"\n",
      "#--------Find constant c--------\n",
      "# log(f) - log(g)\n",
      "def calc_diff(theta, mu, sig, n, y):\n",
      "    return log_odds_post(theta, mu, sig, n, y) - stats.norm.logpdf(theta, loc = 0, scale = .25)\n",
      "\n",
      "# Build min objective function\n",
      "calc_diff_min = lambda *args: -calc_diff(*args)\n",
      "\n",
      "# Give an initial guess\n",
      "init_value = 1.0\n",
      "\n",
      "# Optimization\n",
      "opt = fmin_bfgs(calc_diff_min, init_value, args = (0, .5, 5, 5), full_output = True)\n",
      "\n",
      "# Get constant c\n",
      "c = opt[1]\n",
      "print 'Constant c is {0}'.format(c)\n",
      "\n",
      "#--------Rejection sampling algorithm--------\n",
      "# Define rejection function\n",
      "def reject(post, S, mu, n, data_n, data_y, c):\n",
      "    \n",
      "    # Draw samples from g(theta)\n",
      "    theta = stats.norm.rvs(loc = mu, scale = S, size = n)\n",
      "    \n",
      "    # Calculate probability under g(theta)\n",
      "    gvals = np.array([stats.norm.logpdf(t, loc = mu, scale = S) for t in theta])\n",
      "\n",
      "    # Calculate probability under f(theta)\n",
      "    fvals = np.array([post(t, mu, np.sqrt(S), data_n, data_y) for t in theta])\n",
      "    \n",
      "    # Calculate acceptance probability\n",
      "    p = np.exp(fvals - gvals + c)\n",
      "    return theta[np.random.random(n) < p]\n",
      "\n",
      "# Sampling\n",
      "nsamples = 100000\n",
      "sample = reject(log_odds_post, .25, 0, nsamples, 5, 5, c)\n",
      "\n",
      "\n",
      "# Calculate CDF that theta is positive\n",
      "print '\\nProbability that theta is positive is {0}'.format(np.mean(sample>0))\n",
      "\n",
      "# Plot positive area in PDF\n",
      "plt.figure()\n",
      "x = np.linspace(-3, 3, 100)\n",
      "mypdf = stats.gaussian_kde(sample)\n",
      "plt.plot(x, mypdf(x))\n",
      "plt.xlabel('$\\theta$')\n",
      "plt.ylabel('PDF')\n",
      "plt.grid(True)\n",
      "plt.fill_betweenx(mypdf(x), x, where= x>0)"
     ],
     "language": "python",
     "metadata": {},
     "outputs": [
      {
       "output_type": "stream",
       "stream": "stdout",
       "text": [
        "Warning: Desired error not necessarily achieved due to precision loss.\n",
        "         Current function value: -3.966336\n",
        "         Iterations: 0\n",
        "         Function evaluations: 67\n",
        "         Gradient evaluations: 22\n",
        "Constant c is [-3.96633573]\n",
        "\n",
        "Probability that theta is positive is 0.89898989899"
       ]
      },
      {
       "output_type": "stream",
       "stream": "stdout",
       "text": [
        "\n"
       ]
      },
      {
       "metadata": {},
       "output_type": "pyout",
       "prompt_number": 94,
       "text": [
        "<matplotlib.collections.PolyCollection at 0x468f490>"
       ]
      },
      {
       "metadata": {},
       "output_type": "display_data",
       "png": "[encoded data removed]",
       "text": [
        "<matplotlib.figure.Figure at 0x468e990>"
       ]
      }
     ],
     "prompt_number": 94
    },
    {
     "cell_type": "code",
     "collapsed": false,
     "input": [
      "\"\"\"\n",
      "3.\n",
      "SIR algorithm\n",
      "\"\"\"\n",
      "\n",
      "n = 100000\n",
      "mu = 0\n",
      "S = .5\n",
      "data_n = 5\n",
      "data_y = 5\n",
      "\n",
      "# Draw samples from g(theta)\n",
      "theta = stats.norm.rvs(loc = mu, scale = S, size = n)\n",
      "\n",
      "# Calculate probability under g(theta)\n",
      "q_theta = np.array([stats.norm.logpdf(t, loc = mu, scale = S) for t in theta])\n",
      "\n",
      "# Calculate probability under f(theta)\n",
      "f_theta = np.array([log_odds_post(t, mu, np.sqrt(S), data_n, data_y) for t in theta])\n",
      "\n",
      "# Calculate the importance weights\n",
      "w = np.exp(f_theta - q_theta - max(f_theta - q_theta))\n",
      "\n",
      "# Obtain the probabilities\n",
      "p_sir = w/w.sum()\n",
      "\n",
      "# Estimate the paramters\n",
      "theta_sir = theta[np.random.choice(range(len(theta)), size=100000, p=p_sir)]\n",
      "\n",
      "# Calculate CDF that theta is positive\n",
      "print '\\nProbability that theta is positive is {0}'.format(np.mean(theta_sir>0))\n",
      "\n",
      "# Plot the histogram of theta\n",
      "plt.hist(theta_sir, bins = 30)\n",
      "plt.grid(True)\n"
     ],
     "language": "python",
     "metadata": {},
     "outputs": [
      {
       "output_type": "stream",
       "stream": "stdout",
       "text": [
        "\n",
        "Probability that theta is positive is 0.91801\n"
       ]
      },
      {
       "metadata": {},
       "output_type": "display_data",
       "png": "[encoded data removed]",
       "text": [
        "<matplotlib.figure.Figure at 0x6378610>"
       ]
      }
     ],
     "prompt_number": 116
    }
   ],
   "metadata": {}
  }
 ]
}