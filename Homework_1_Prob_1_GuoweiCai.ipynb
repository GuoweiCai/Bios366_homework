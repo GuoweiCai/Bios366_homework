{
 "metadata": {
  "name": ""
 },
 "nbformat": 3,
 "nbformat_minor": 0,
 "worksheets": [
  {
   "cells": [
    {
     "cell_type": "code",
     "collapsed": false,
     "input": [
      "%pylab inline\n",
      "import numpy as np\n",
      "import sympy as sp\n",
      "import matplotlib.pyplot as plt\n",
      "from scipy.optimize import fmin_ncg\n",
      "from scipy.stats.distributions import norm\n",
      "import time\n",
      "import scipy as si"
     ],
     "language": "python",
     "metadata": {},
     "outputs": [
      {
       "output_type": "stream",
       "stream": "stdout",
       "text": [
        "Populating the interactive namespace from numpy and matplotlib\n"
       ]
      },
      {
       "output_type": "stream",
       "stream": "stderr",
       "text": [
        "WARNING: pylab import has clobbered these variables: ['norm']\n",
        "`%pylab --no-import-all` prevents importing * from pylab and numpy\n"
       ]
      }
     ],
     "prompt_number": 96
    },
    {
     "cell_type": "markdown",
     "metadata": {},
     "source": [
      "## Question 1\n",
      "\n",
      "The data below provides counts of a flour beetle (Tribolium confusum) population at various points in time:"
     ]
    },
    {
     "cell_type": "code",
     "collapsed": false,
     "input": [
      "days = 0,8,28,41,63,79,97,117,135,154\n",
      "beetles = 2,47,192,256,768,896,1120,896,1184,1024\n",
      "\n",
      "plt.plot(days, beetles)"
     ],
     "language": "python",
     "metadata": {},
     "outputs": [
      {
       "metadata": {},
       "output_type": "pyout",
       "prompt_number": 3,
       "text": [
        "[<matplotlib.lines.Line2D at 0x50fdf90>]"
       ]
      },
      {
       "metadata": {},
       "output_type": "display_data",
       "png": "[encoded data removed]",
       "text": [
        "<matplotlib.figure.Figure at 0x4ff4850>"
       ]
      }
     ],
     "prompt_number": 3
    },
    {
     "cell_type": "markdown",
     "metadata": {},
     "source": [
      "An elementary model for population growth is the logistic model:\n",
      "\n",
      "$$\\frac{dN}{dt} = rN\\left(1 - \\frac{N}{K}\\right)$$\n",
      "\n",
      "where $N$ is population size, $t$ is time, $r$ is a growth rate parameter, and $K$ is a parameter that represents the population carrying capacity of the environment. The solution to this differential equation is given by: \n",
      "\n",
      "$$N_t = f(t) = \\frac{KN_0}{N_0 + (K - N_0)\\exp(-rt)}$$\n",
      "\n",
      "where $N_t$ denotes the population size at time $t$. \n",
      "\n",
      "1. Fit the logistic growth model to the flour beetle data using the Newton\u2013Raphson approach to minimize the sum of squared errors between model predictions and observed counts.\n",
      "\n",
      "2. In many population modeling applications, an assumption of lognormality is adopted. The simplest assumption would be that the $\\log(N_t)$ are independent and normally distributed with mean $\\log[f(t)]$ and variance $\\sigma^2$. Find the MLEs under this assumption, using the Newton\u2013Raphson method."
     ]
    },
    {
     "cell_type": "code",
     "collapsed": false,
     "input": [
      "\"\"\"\n",
      "1.\n",
      "Fit model using NR & least square\n",
      "Don't use scipy.optimize.newton is because it is only applicable for scalar(1-D)\n",
      "\"\"\"\n",
      "start_time = time.time()\n",
      "N_0 = beetles[0]\n",
      "\n",
      "# Symbolize parameters\n",
      "r, K, t, N = sp.symbols('r K t N')\n",
      "\n",
      "# Define Sum of Square\n",
      "def Sum_Square_N_t(theta):\n",
      "    sum = 0\n",
      "    for i in arange(size(days)):\n",
      "        sum += (beetles[i] - theta[0]*N_0/(N_0 + (theta[0] - N_0)*np.exp(-theta[1]*days[i])))**2\n",
      "    return sum\n",
      "\n",
      "# Define function\n",
      "Square_N_t = (N - K*N_0/(N_0 + (K - N_0)*sp.exp(-r*t)))**2\n",
      "\n",
      "# Calculate 1st and 2nd order derivative\n",
      "\n",
      "dfdr = sp.diff(Square_N_t, r)\n",
      "\n",
      "dfdK = sp.diff(Square_N_t, K)\n",
      "\n",
      "dfdK2 = sp.diff(sp.diff(Square_N_t, K), K)\n",
      "\n",
      "dfdr2 = sp.diff(sp.diff(Square_N_t, r), r)\n",
      "\n",
      "dfdrdK = sp.diff(sp.diff(Square_N_t, r), K)\n",
      "\n",
      "def f_prime(theta):\n",
      "    sum_prime = np.zeros((1,2))\n",
      "    for i in arange(size(days)):\n",
      "        b = beetles[i]\n",
      "        d = days[i]\n",
      "        sum_prime[0, 0] += dfdK.evalf(subs={'K':theta[0], 'r':theta[1], 't':d, 'N':b})\n",
      "        sum_prime[0, 1] += dfdr.evalf(subs={'K':theta[0], 'r':theta[1], 't':d, 'N':b})                     \n",
      "    return sum_prime[0]\n",
      "\n",
      "\n",
      "def f_hess(theta): \n",
      "    sum_hess = np.zeros((2,2))\n",
      "    for i in arange(size(days)):\n",
      "        b = beetles[i]\n",
      "        d = days[i]\n",
      "        sum_hess[0, 0] += dfdK2.evalf(subs={'K':theta[0], 'r':theta[1],  't':d, 'N':b})\n",
      "        sum_hess[0, 1] += dfdrdK.evalf(subs={'K':theta[0], 'r':theta[1],  't':d, 'N':b})\n",
      "        sum_hess[1, 1] += dfdr2.evalf(subs={'K':theta[0], 'r':theta[1],  't':d, 'N':b})\n",
      "    sum_hess[1, 0] = sum_hess[0, 1]\n",
      "    return sum_hess\n",
      "\n",
      "# Use Newton-CG method to estimate parameters\n",
      "K_hat, r_hat = fmin_ncg(Sum_Square_N_t, [1000, 1], fprime=f_prime , fhess=f_hess)\n",
      "\n",
      "\n",
      "print 'Estimate of K is {0}'.format(K_hat)\n",
      "print 'Estimate of r is {0}'.format(r_hat)\n",
      "\n",
      "t = np.linspace(0, 160)\n",
      "N = lambda K, r, t: K*2/(2 + (K - 2)*np.exp(-r*t))\n",
      "plt.plot(days, beetles, 'r*')\n",
      "plt.plot(t, N(K_hat, r_hat, t), 'k-')\n",
      "plt.grid(True)\n",
      "end_time = time.time()\n",
      "print(\"Elapsed time was %g seconds\" % (end_time - start_time))"
     ],
     "language": "python",
     "metadata": {},
     "outputs": [
      {
       "output_type": "stream",
       "stream": "stdout",
       "text": [
        "Optimization terminated successfully.\n",
        "         Current function value: 88087.132728\n",
        "         Iterations: 5\n",
        "         Function evaluations: 13\n",
        "         Gradient evaluations: 17\n",
        "         Hessian evaluations: 5\n",
        "Estimate of K is 999.985762358\n",
        "Estimate of r is 0.120589683921\n",
        "Elapsed time was 288.333 seconds"
       ]
      },
      {
       "output_type": "stream",
       "stream": "stdout",
       "text": [
        "\n"
       ]
      },
      {
       "metadata": {},
       "output_type": "display_data",
       "png": "[encoded data removed]",
       "text": [
        "<matplotlib.figure.Figure at 0x8ed1dd0>"
       ]
      }
     ],
     "prompt_number": 81
    },
    {
     "cell_type": "code",
     "collapsed": false,
     "input": [
      "# Symbolize parameters\n",
      "r, K, t, N = sp.symbols('r K t N')\n",
      "\n",
      "g = lambda K, r, t: (K*2)/(2 + (K - 2)*np.exp(-r*t))\n",
      "\n",
      "\"\"\"\n",
      "2.\n",
      "Fit model using NR & MLE\n",
      "Don't use scipy.optimize.newton is because it is only applicable for scalar(1-D)\n",
      "\"\"\"\n",
      "N_0 = beetles[0]\n",
      "\n",
      "def likelihood(theta):\n",
      "    K_hat = theta[0]\n",
      "    r_hat = theta[1]\n",
      "    sigma_hat = theta[2]\n",
      "    sum = 0\n",
      "    for i in arange(size(days)):\n",
      "        N = beetles[i]\n",
      "        t = days[i]\n",
      "        sum += si.stats.norm.logpdf(np.log(N), loc=np.log(g(K_hat, r_hat, t)), scale=sigma_hat**2)\n",
      "    return sum\n",
      "\n",
      "# Symbolize parameters\n",
      "r, K, t, N, sigma = sp.symbols('r K t N sigma')\n",
      "\n",
      "# Define function\n",
      "N_t = 1/(np.sqrt(2*pi)*sigma)*sp.exp(-(sp.log(N)-sp.log((K*2)/(2 + (K - 2)*sp.exp(-r*t))))**2/(2*sigma**2))\n",
      "\n",
      "# Calculate 1st and 2nd order derivative\n",
      "\n",
      "dfdK = sp.diff(N_t, K)\n",
      "\n",
      "dfdr = sp.diff(N_t, r)\n",
      "\n",
      "dfdsigma = sp.diff(N_t, sigma)\n",
      "\n",
      "dfdK2 = sp.diff(sp.diff(N_t, K), K)\n",
      "\n",
      "dfdr2 = sp.diff(sp.diff(N_t, r), r)\n",
      "\n",
      "dfdsigma2 = sp.diff(sp.diff(N_t, sigma), sigma)\n",
      "\n",
      "dfdKdr = sp.diff(sp.diff(N_t, K), r)\n",
      "\n",
      "dfdKdsigma = sp.diff(sp.diff(N_t, K), sigma)\n",
      "\n",
      "dfdrdsigma = sp.diff(sp.diff(N_t, K), sigma)\n",
      "\n",
      "def f_prime(theta):\n",
      "    \n",
      "    sum_prime = np.zeros((1,3))\n",
      "    for i in arange(size(days)):\n",
      "        b = beetles[i]\n",
      "        d = days[i]\n",
      "        sum_prime[0, 0] += dfdK.evalf(subs={'K':theta[0], 'r':theta[1], 'sigma':theta[2], 't':d, 'N':b})\n",
      "        sum_prime[0, 1] += dfdr.evalf(subs={'K':theta[0], 'r':theta[1], 'sigma':theta[2], 't':d, 'N':b})\n",
      "        sum_prime[0, 2] += dfdsigma.evalf(subs={'K':theta[0], 'r':theta[1], 'sigma':theta[2], 't':d, 'N':b})\n",
      "        \n",
      "    return sum_prime[0]\n",
      "\n",
      "\n",
      "def f_hess(theta): \n",
      "    sum_hess = np.zeros((3,3))\n",
      "\n",
      "    sigma = theta[2]\n",
      "    \n",
      "    for i in arange(size(days)):\n",
      "        b = beetles[i]\n",
      "        d = days[i]\n",
      "        sum_hess[0, 0] += dfdK2.evalf(subs={'K':theta[0], 'r':theta[1], 'sigma':theta[2], 't':d, 'N':b})\n",
      "        sum_hess[0, 1] += dfdKdr.evalf(subs={'K':theta[0], 'r':theta[1], 'sigma':theta[2], 't':d, 'N':b})\n",
      "        sum_hess[0, 2] += dfdKdsigma.evalf(subs={'K':theta[0], 'r':theta[1], 'sigma':theta[2], 't':d, 'N':b})\n",
      "        sum_hess[1, 1] += dfdr2.evalf(subs={'K':theta[0], 'r':theta[1], 'sigma':theta[2], 't':d, 'N':b})\n",
      "        sum_hess[1, 2] += dfdrdsigma.evalf(subs={'K':theta[0], 'r':theta[1], 'sigma':theta[2], 't':d, 'N':b})\n",
      "        sum_hess[2, 2] += dfdsigma2.evalf(subs={'K':theta[0], 'r':theta[1], 'sigma':theta[2], 't':d, 'N':b})        \n",
      "    sum_hess[1, 0] = sum_hess[0, 1]\n",
      "    sum_hess[2, 0] = sum_hess[0, 2]\n",
      "    sum_hess[2, 1] = sum_hess[1, 2]    \n",
      "    return sum_hess\n",
      "\n",
      "# Use Newton-CG method to estimate parameters\n",
      "K_hat, r_hat = fmin_ncg(likelihood, [1000, 1, 1], fprime=f_prime , fhess=f_hess)\n",
      "\n",
      "print 'Estimate of K and $r$ is {0}'.format(K_hat, r_hat)\n",
      "\n",
      "t = np.linspace(0, 160)\n",
      "N = lambda K, r, t: K*2/(2 + (K - 2)*np.exp(-r*t))\n",
      "plt.plot(days, beetles, 'r*')\n",
      "plt.plot(t, N(K_hat, r_hat, t), 'k-')\n",
      "plt.grid(True)\n"
     ],
     "language": "python",
     "metadata": {},
     "outputs": [],
     "prompt_number": "*"
    },
    {
     "cell_type": "code",
     "collapsed": false,
     "input": [],
     "language": "python",
     "metadata": {},
     "outputs": []
    },
    {
     "cell_type": "code",
     "collapsed": false,
     "input": [],
     "language": "python",
     "metadata": {},
     "outputs": []
    },
    {
     "cell_type": "code",
     "collapsed": false,
     "input": [],
     "language": "python",
     "metadata": {},
     "outputs": []
    },
    {
     "cell_type": "code",
     "collapsed": false,
     "input": [],
     "language": "python",
     "metadata": {},
     "outputs": []
    },
    {
     "cell_type": "code",
     "collapsed": false,
     "input": [],
     "language": "python",
     "metadata": {},
     "outputs": []
    }
   ],
   "metadata": {}
  }
 ]
}